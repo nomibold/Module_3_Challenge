{
 "cells": [
  {
   "cell_type": "markdown",
   "metadata": {},
   "source": [
    "## Crypto Arbitrage\n",
    "\n",
    "In this Challenge, you'll take on the role of an analyst at a high-tech investment firm. The vice president (VP) of your department is considering arbitrage opportunities in Bitcoin and other cryptocurrencies. As Bitcoin trades on markets across the globe, can you capitalize on simultaneous price dislocations in those markets by using the powers of Pandas?\n",
    "\n",
    "For this assignment, you’ll sort through historical trade data for Bitcoin on two exchanges: Bitstamp and Coinbase. Your task is to apply the three phases of financial analysis to determine if any arbitrage opportunities exist for Bitcoin.\n",
    "\n",
    "This aspect of the Challenge will consist of 3 phases.\n",
    "\n",
    "1. Collect the data.\n",
    "\n",
    "2. Prepare the data.\n",
    "\n",
    "3. Analyze the data. \n",
    "\n"
   ]
  },
  {
   "cell_type": "markdown",
   "metadata": {},
   "source": [
    "###  Import the required libraries and dependencies."
   ]
  },
  {
   "cell_type": "code",
   "execution_count": 312,
   "metadata": {},
   "outputs": [],
   "source": [
    "import pandas as pd\n",
    "from pathlib import Path\n",
    "%matplotlib inline"
   ]
  },
  {
   "cell_type": "markdown",
   "metadata": {},
   "source": [
    "## Collect the Data\n",
    "\n",
    "To collect the data that you’ll need, complete the following steps:\n",
    "\n",
    "Instructions. \n",
    "\n",
    "1. Using the Pandas `read_csv` function and the `Path` module, import the data from `bitstamp.csv` file, and create a DataFrame called `bitstamp`. Set the DatetimeIndex as the Timestamp column, and be sure to parse and format the dates.\n",
    "\n",
    "2. Use the `head` (and/or the `tail`) function to confirm that Pandas properly imported the data.\n",
    "\n",
    "3. Repeat Steps 1 and 2 for `coinbase.csv` file."
   ]
  },
  {
   "cell_type": "markdown",
   "metadata": {},
   "source": [
    "### Step 1: Using the Pandas `read_csv` function and the `Path` module, import the data from `bitstamp.csv` file, and create a DataFrame called `bitstamp`. Set the DatetimeIndex as the Timestamp column, and be sure to parse and format the dates."
   ]
  },
  {
   "cell_type": "code",
   "execution_count": 313,
   "metadata": {},
   "outputs": [],
   "source": [
    "# Read in the CSV file called \"bitstamp.csv\" using the Path module. \n",
    "# The CSV file is located in the Resources folder.\n",
    "# Set the index to the column \"Date\"\n",
    "# Set the parse_dates and infer_datetime_format parameters\n",
    "bitstamp = pd.read_csv(\n",
    "    Path('Resources/bitstamp.csv'),\n",
    "    index_col = \"Timestamp\",\n",
    "    parse_dates = True,\n",
    "    infer_datetime_format = True\n",
    ")"
   ]
  },
  {
   "cell_type": "markdown",
   "metadata": {},
   "source": [
    "### Step 2: Use the `head` (and/or the `tail`) function to confirm that Pandas properly imported the data."
   ]
  },
  {
   "cell_type": "code",
   "execution_count": 314,
   "metadata": {},
   "outputs": [
    {
     "data": {
      "text/html": [
       "<div>\n",
       "<style scoped>\n",
       "    .dataframe tbody tr th:only-of-type {\n",
       "        vertical-align: middle;\n",
       "    }\n",
       "\n",
       "    .dataframe tbody tr th {\n",
       "        vertical-align: top;\n",
       "    }\n",
       "\n",
       "    .dataframe thead th {\n",
       "        text-align: right;\n",
       "    }\n",
       "</style>\n",
       "<table border=\"1\" class=\"dataframe\">\n",
       "  <thead>\n",
       "    <tr style=\"text-align: right;\">\n",
       "      <th></th>\n",
       "      <th>Open</th>\n",
       "      <th>High</th>\n",
       "      <th>Low</th>\n",
       "      <th>Close</th>\n",
       "      <th>BTC Volume</th>\n",
       "      <th>USD Volume</th>\n",
       "      <th>Weighted Price</th>\n",
       "    </tr>\n",
       "    <tr>\n",
       "      <th>Timestamp</th>\n",
       "      <th></th>\n",
       "      <th></th>\n",
       "      <th></th>\n",
       "      <th></th>\n",
       "      <th></th>\n",
       "      <th></th>\n",
       "      <th></th>\n",
       "    </tr>\n",
       "  </thead>\n",
       "  <tbody>\n",
       "    <tr>\n",
       "      <th>2018-01-01 00:00:00</th>\n",
       "      <td>13681.04</td>\n",
       "      <td>13681.04</td>\n",
       "      <td>13637.93</td>\n",
       "      <td>$13646.48</td>\n",
       "      <td>3.334553</td>\n",
       "      <td>45482.128785</td>\n",
       "      <td>13639.647479</td>\n",
       "    </tr>\n",
       "    <tr>\n",
       "      <th>2018-01-01 00:01:00</th>\n",
       "      <td>13646.48</td>\n",
       "      <td>13658.75</td>\n",
       "      <td>13610.18</td>\n",
       "      <td>$13658.75</td>\n",
       "      <td>2.663188</td>\n",
       "      <td>36361.390888</td>\n",
       "      <td>13653.332816</td>\n",
       "    </tr>\n",
       "    <tr>\n",
       "      <th>2018-01-01 00:02:00</th>\n",
       "      <td>13616.93</td>\n",
       "      <td>13616.93</td>\n",
       "      <td>13610.06</td>\n",
       "      <td>$13610.22</td>\n",
       "      <td>0.084653</td>\n",
       "      <td>1152.144036</td>\n",
       "      <td>13610.136247</td>\n",
       "    </tr>\n",
       "    <tr>\n",
       "      <th>2018-01-01 00:03:00</th>\n",
       "      <td>13610.27</td>\n",
       "      <td>13639.09</td>\n",
       "      <td>13610.27</td>\n",
       "      <td>$13639.09</td>\n",
       "      <td>7.182986</td>\n",
       "      <td>97856.416478</td>\n",
       "      <td>13623.361128</td>\n",
       "    </tr>\n",
       "    <tr>\n",
       "      <th>2018-01-01 00:04:00</th>\n",
       "      <td>13635.35</td>\n",
       "      <td>13636.35</td>\n",
       "      <td>13620.00</td>\n",
       "      <td>$13620.0</td>\n",
       "      <td>1.069665</td>\n",
       "      <td>14582.660932</td>\n",
       "      <td>13632.923329</td>\n",
       "    </tr>\n",
       "  </tbody>\n",
       "</table>\n",
       "</div>"
      ],
      "text/plain": [
       "                         Open      High       Low      Close  BTC Volume  \\\n",
       "Timestamp                                                                  \n",
       "2018-01-01 00:00:00  13681.04  13681.04  13637.93  $13646.48    3.334553   \n",
       "2018-01-01 00:01:00  13646.48  13658.75  13610.18  $13658.75    2.663188   \n",
       "2018-01-01 00:02:00  13616.93  13616.93  13610.06  $13610.22    0.084653   \n",
       "2018-01-01 00:03:00  13610.27  13639.09  13610.27  $13639.09    7.182986   \n",
       "2018-01-01 00:04:00  13635.35  13636.35  13620.00   $13620.0    1.069665   \n",
       "\n",
       "                       USD Volume  Weighted Price  \n",
       "Timestamp                                          \n",
       "2018-01-01 00:00:00  45482.128785    13639.647479  \n",
       "2018-01-01 00:01:00  36361.390888    13653.332816  \n",
       "2018-01-01 00:02:00   1152.144036    13610.136247  \n",
       "2018-01-01 00:03:00  97856.416478    13623.361128  \n",
       "2018-01-01 00:04:00  14582.660932    13632.923329  "
      ]
     },
     "execution_count": 314,
     "metadata": {},
     "output_type": "execute_result"
    }
   ],
   "source": [
    "# Use the head (and/or tail) function to confirm that the data was imported properly.\n",
    "bitstamp.head()\n"
   ]
  },
  {
   "cell_type": "code",
   "execution_count": 315,
   "metadata": {},
   "outputs": [
    {
     "ename": "SyntaxError",
     "evalue": "invalid syntax (2850542418.py, line 1)",
     "output_type": "error",
     "traceback": [
      "\u001b[0;36m  File \u001b[0;32m\"/var/folders/tn/vktwrrh95yg4q937cv1p8yyh0000gn/T/ipykernel_80255/2850542418.py\"\u001b[0;36m, line \u001b[0;32m1\u001b[0m\n\u001b[0;31m    This table above shows us the first 5 rows of Bitstamp's trade information\u001b[0m\n\u001b[0m         ^\u001b[0m\n\u001b[0;31mSyntaxError\u001b[0m\u001b[0;31m:\u001b[0m invalid syntax\n"
     ]
    }
   ],
   "source": [
    "This table above shows us the first 5 rows of Bitstamp's trade information"
   ]
  },
  {
   "cell_type": "markdown",
   "metadata": {},
   "source": [
    "### Step 3: Repeat Steps 1 and 2 for `coinbase.csv` file."
   ]
  },
  {
   "cell_type": "code",
   "execution_count": 316,
   "metadata": {},
   "outputs": [],
   "source": [
    "# Read in the CSV file called \"coinbase.csv\" using the Path module. \n",
    "# The CSV file is located in the Resources folder.\n",
    "# Set the index to the column \"Timestamp\"\n",
    "# Set the parse_dates and infer_datetime_format parameters\n",
    "coinbase = pd.read_csv(\n",
    "    Path('Resources/coinbase.csv'),\n",
    "    index_col = \"Timestamp\", \n",
    "    parse_dates = True, \n",
    "    infer_datetime_format = True\n",
    ")"
   ]
  },
  {
   "cell_type": "code",
   "execution_count": 317,
   "metadata": {
    "jupyter": {
     "source_hidden": true
    },
    "tags": []
   },
   "outputs": [
    {
     "data": {
      "text/html": [
       "<div>\n",
       "<style scoped>\n",
       "    .dataframe tbody tr th:only-of-type {\n",
       "        vertical-align: middle;\n",
       "    }\n",
       "\n",
       "    .dataframe tbody tr th {\n",
       "        vertical-align: top;\n",
       "    }\n",
       "\n",
       "    .dataframe thead th {\n",
       "        text-align: right;\n",
       "    }\n",
       "</style>\n",
       "<table border=\"1\" class=\"dataframe\">\n",
       "  <thead>\n",
       "    <tr style=\"text-align: right;\">\n",
       "      <th></th>\n",
       "      <th>Open</th>\n",
       "      <th>High</th>\n",
       "      <th>Low</th>\n",
       "      <th>Close</th>\n",
       "      <th>BTC Volume</th>\n",
       "      <th>USD Volume</th>\n",
       "      <th>Weighted Price</th>\n",
       "    </tr>\n",
       "    <tr>\n",
       "      <th>Timestamp</th>\n",
       "      <th></th>\n",
       "      <th></th>\n",
       "      <th></th>\n",
       "      <th></th>\n",
       "      <th></th>\n",
       "      <th></th>\n",
       "      <th></th>\n",
       "    </tr>\n",
       "  </thead>\n",
       "  <tbody>\n",
       "    <tr>\n",
       "      <th>2018-01-01 00:00:00</th>\n",
       "      <td>13620.00</td>\n",
       "      <td>13620.00</td>\n",
       "      <td>13608.49</td>\n",
       "      <td>$13608.49</td>\n",
       "      <td>20.812754</td>\n",
       "      <td>283451.08537</td>\n",
       "      <td>13619.105106</td>\n",
       "    </tr>\n",
       "    <tr>\n",
       "      <th>2018-01-01 00:01:00</th>\n",
       "      <td>13607.14</td>\n",
       "      <td>13607.14</td>\n",
       "      <td>13601.66</td>\n",
       "      <td>$13601.66</td>\n",
       "      <td>13.474359</td>\n",
       "      <td>183283.97801</td>\n",
       "      <td>13602.426919</td>\n",
       "    </tr>\n",
       "    <tr>\n",
       "      <th>2018-01-01 00:02:00</th>\n",
       "      <td>13601.44</td>\n",
       "      <td>13601.44</td>\n",
       "      <td>13580.00</td>\n",
       "      <td>$13580.0</td>\n",
       "      <td>11.536360</td>\n",
       "      <td>156789.19686</td>\n",
       "      <td>13590.872506</td>\n",
       "    </tr>\n",
       "    <tr>\n",
       "      <th>2018-01-01 00:03:00</th>\n",
       "      <td>13587.31</td>\n",
       "      <td>13587.31</td>\n",
       "      <td>13542.70</td>\n",
       "      <td>$13550.34</td>\n",
       "      <td>16.328039</td>\n",
       "      <td>221413.64182</td>\n",
       "      <td>13560.332806</td>\n",
       "    </tr>\n",
       "    <tr>\n",
       "      <th>2018-01-01 00:04:00</th>\n",
       "      <td>13550.34</td>\n",
       "      <td>13585.95</td>\n",
       "      <td>13550.34</td>\n",
       "      <td>$13583.44</td>\n",
       "      <td>9.955364</td>\n",
       "      <td>135141.26944</td>\n",
       "      <td>13574.719401</td>\n",
       "    </tr>\n",
       "  </tbody>\n",
       "</table>\n",
       "</div>"
      ],
      "text/plain": [
       "                         Open      High       Low      Close  BTC Volume  \\\n",
       "Timestamp                                                                  \n",
       "2018-01-01 00:00:00  13620.00  13620.00  13608.49  $13608.49   20.812754   \n",
       "2018-01-01 00:01:00  13607.14  13607.14  13601.66  $13601.66   13.474359   \n",
       "2018-01-01 00:02:00  13601.44  13601.44  13580.00   $13580.0   11.536360   \n",
       "2018-01-01 00:03:00  13587.31  13587.31  13542.70  $13550.34   16.328039   \n",
       "2018-01-01 00:04:00  13550.34  13585.95  13550.34  $13583.44    9.955364   \n",
       "\n",
       "                       USD Volume  Weighted Price  \n",
       "Timestamp                                          \n",
       "2018-01-01 00:00:00  283451.08537    13619.105106  \n",
       "2018-01-01 00:01:00  183283.97801    13602.426919  \n",
       "2018-01-01 00:02:00  156789.19686    13590.872506  \n",
       "2018-01-01 00:03:00  221413.64182    13560.332806  \n",
       "2018-01-01 00:04:00  135141.26944    13574.719401  "
      ]
     },
     "execution_count": 317,
     "metadata": {},
     "output_type": "execute_result"
    }
   ],
   "source": [
    "# Use the head (and/or tail) function to confirm that the data was imported properly.\n",
    "coinbase.head()\n"
   ]
  },
  {
   "cell_type": "code",
   "execution_count": null,
   "metadata": {},
   "outputs": [],
   "source": [
    "Whereas this table shows us the first 5 rows of Coinbase's trade information"
   ]
  },
  {
   "cell_type": "markdown",
   "metadata": {},
   "source": [
    "## Prepare the Data\n",
    "\n",
    "To prepare and clean your data for analysis, complete the following steps:\n",
    "\n",
    "1. For the bitstamp DataFrame, replace or drop all `NaN`, or missing, values in the DataFrame.\n",
    "\n",
    "2. Use the `str.replace` function to remove the dollar signs ($) from the values in the Close column.\n",
    "\n",
    "3. Convert the data type of the Close column to a `float`.\n",
    "\n",
    "4. Review the data for duplicated values, and drop them if necessary.\n",
    "\n",
    "5. Repeat Steps 1–4 for the coinbase DataFrame."
   ]
  },
  {
   "cell_type": "markdown",
   "metadata": {},
   "source": [
    "### Step 1: For the bitstamp DataFrame, replace or drop all `NaN`, or missing, values in the DataFrame."
   ]
  },
  {
   "cell_type": "code",
   "execution_count": 318,
   "metadata": {},
   "outputs": [
    {
     "data": {
      "text/plain": [
       "Open              473\n",
       "High              473\n",
       "Low               473\n",
       "Close               0\n",
       "BTC Volume        473\n",
       "USD Volume        473\n",
       "Weighted Price    473\n",
       "dtype: int64"
      ]
     },
     "execution_count": 318,
     "metadata": {},
     "output_type": "execute_result"
    }
   ],
   "source": [
    "# For the bitstamp DataFrame, replace or drop all NaNs or missing values in the DataFrame\n",
    "bitstamp.isnull().sum()"
   ]
  },
  {
   "cell_type": "code",
   "execution_count": 319,
   "metadata": {},
   "outputs": [
    {
     "ename": "SyntaxError",
     "evalue": "invalid syntax (1493098227.py, line 1)",
     "output_type": "error",
     "traceback": [
      "\u001b[0;36m  File \u001b[0;32m\"/var/folders/tn/vktwrrh95yg4q937cv1p8yyh0000gn/T/ipykernel_80255/1493098227.py\"\u001b[0;36m, line \u001b[0;32m1\u001b[0m\n\u001b[0;31m    These are the number of missing values that we have on the data and will drop them.\u001b[0m\n\u001b[0m          ^\u001b[0m\n\u001b[0;31mSyntaxError\u001b[0m\u001b[0;31m:\u001b[0m invalid syntax\n"
     ]
    }
   ],
   "source": [
    "These are the number of missing values that we have on the data and will drop them. "
   ]
  },
  {
   "cell_type": "markdown",
   "metadata": {},
   "source": [
    "### Step 2: Use the `str.replace` function to remove the dollar signs ($) from the values in the Close column."
   ]
  },
  {
   "cell_type": "code",
   "execution_count": 320,
   "metadata": {},
   "outputs": [
    {
     "name": "stderr",
     "output_type": "stream",
     "text": [
      "/var/folders/tn/vktwrrh95yg4q937cv1p8yyh0000gn/T/ipykernel_80255/1642736718.py:2: FutureWarning: The default value of regex will change from True to False in a future version. In addition, single character regular expressions will *not* be treated as literal strings when regex=True.\n",
      "  bitstamp.loc[:, \"Close\"] = bitstamp.loc[:, \"Close\"].str.replace(\"$\", \"\")\n"
     ]
    },
    {
     "data": {
      "text/html": [
       "<div>\n",
       "<style scoped>\n",
       "    .dataframe tbody tr th:only-of-type {\n",
       "        vertical-align: middle;\n",
       "    }\n",
       "\n",
       "    .dataframe tbody tr th {\n",
       "        vertical-align: top;\n",
       "    }\n",
       "\n",
       "    .dataframe thead th {\n",
       "        text-align: right;\n",
       "    }\n",
       "</style>\n",
       "<table border=\"1\" class=\"dataframe\">\n",
       "  <thead>\n",
       "    <tr style=\"text-align: right;\">\n",
       "      <th></th>\n",
       "      <th>Open</th>\n",
       "      <th>High</th>\n",
       "      <th>Low</th>\n",
       "      <th>Close</th>\n",
       "      <th>BTC Volume</th>\n",
       "      <th>USD Volume</th>\n",
       "      <th>Weighted Price</th>\n",
       "    </tr>\n",
       "    <tr>\n",
       "      <th>Timestamp</th>\n",
       "      <th></th>\n",
       "      <th></th>\n",
       "      <th></th>\n",
       "      <th></th>\n",
       "      <th></th>\n",
       "      <th></th>\n",
       "      <th></th>\n",
       "    </tr>\n",
       "  </thead>\n",
       "  <tbody>\n",
       "    <tr>\n",
       "      <th>2018-01-01 00:00:00</th>\n",
       "      <td>13681.04</td>\n",
       "      <td>13681.04</td>\n",
       "      <td>13637.93</td>\n",
       "      <td>13646.48</td>\n",
       "      <td>3.334553</td>\n",
       "      <td>45482.128785</td>\n",
       "      <td>13639.647479</td>\n",
       "    </tr>\n",
       "    <tr>\n",
       "      <th>2018-01-01 00:01:00</th>\n",
       "      <td>13646.48</td>\n",
       "      <td>13658.75</td>\n",
       "      <td>13610.18</td>\n",
       "      <td>13658.75</td>\n",
       "      <td>2.663188</td>\n",
       "      <td>36361.390888</td>\n",
       "      <td>13653.332816</td>\n",
       "    </tr>\n",
       "    <tr>\n",
       "      <th>2018-01-01 00:02:00</th>\n",
       "      <td>13616.93</td>\n",
       "      <td>13616.93</td>\n",
       "      <td>13610.06</td>\n",
       "      <td>13610.22</td>\n",
       "      <td>0.084653</td>\n",
       "      <td>1152.144036</td>\n",
       "      <td>13610.136247</td>\n",
       "    </tr>\n",
       "    <tr>\n",
       "      <th>2018-01-01 00:03:00</th>\n",
       "      <td>13610.27</td>\n",
       "      <td>13639.09</td>\n",
       "      <td>13610.27</td>\n",
       "      <td>13639.09</td>\n",
       "      <td>7.182986</td>\n",
       "      <td>97856.416478</td>\n",
       "      <td>13623.361128</td>\n",
       "    </tr>\n",
       "    <tr>\n",
       "      <th>2018-01-01 00:04:00</th>\n",
       "      <td>13635.35</td>\n",
       "      <td>13636.35</td>\n",
       "      <td>13620.00</td>\n",
       "      <td>13620.0</td>\n",
       "      <td>1.069665</td>\n",
       "      <td>14582.660932</td>\n",
       "      <td>13632.923329</td>\n",
       "    </tr>\n",
       "    <tr>\n",
       "      <th>...</th>\n",
       "      <td>...</td>\n",
       "      <td>...</td>\n",
       "      <td>...</td>\n",
       "      <td>...</td>\n",
       "      <td>...</td>\n",
       "      <td>...</td>\n",
       "      <td>...</td>\n",
       "    </tr>\n",
       "    <tr>\n",
       "      <th>2018-03-31 23:55:00</th>\n",
       "      <td>6935.01</td>\n",
       "      <td>6939.07</td>\n",
       "      <td>6922.56</td>\n",
       "      <td>6922.56</td>\n",
       "      <td>1.044354</td>\n",
       "      <td>7240.034602</td>\n",
       "      <td>6932.550078</td>\n",
       "    </tr>\n",
       "    <tr>\n",
       "      <th>2018-03-31 23:56:00</th>\n",
       "      <td>6922.02</td>\n",
       "      <td>6922.02</td>\n",
       "      <td>6918.00</td>\n",
       "      <td>6920.32</td>\n",
       "      <td>3.069539</td>\n",
       "      <td>21245.076275</td>\n",
       "      <td>6921.260233</td>\n",
       "    </tr>\n",
       "    <tr>\n",
       "      <th>2018-03-31 23:57:00</th>\n",
       "      <td>6920.33</td>\n",
       "      <td>6936.42</td>\n",
       "      <td>6920.33</td>\n",
       "      <td>6934.72</td>\n",
       "      <td>28.239049</td>\n",
       "      <td>195789.408220</td>\n",
       "      <td>6933.286106</td>\n",
       "    </tr>\n",
       "    <tr>\n",
       "      <th>2018-03-31 23:58:00</th>\n",
       "      <td>6927.65</td>\n",
       "      <td>6929.42</td>\n",
       "      <td>6927.65</td>\n",
       "      <td>6927.65</td>\n",
       "      <td>0.839507</td>\n",
       "      <td>5817.007705</td>\n",
       "      <td>6929.080007</td>\n",
       "    </tr>\n",
       "    <tr>\n",
       "      <th>2018-03-31 23:59:00</th>\n",
       "      <td>6929.98</td>\n",
       "      <td>6929.98</td>\n",
       "      <td>6928.00</td>\n",
       "      <td>6928.01</td>\n",
       "      <td>0.209363</td>\n",
       "      <td>1450.735763</td>\n",
       "      <td>6929.289993</td>\n",
       "    </tr>\n",
       "  </tbody>\n",
       "</table>\n",
       "<p>129540 rows × 7 columns</p>\n",
       "</div>"
      ],
      "text/plain": [
       "                         Open      High       Low     Close  BTC Volume  \\\n",
       "Timestamp                                                                 \n",
       "2018-01-01 00:00:00  13681.04  13681.04  13637.93  13646.48    3.334553   \n",
       "2018-01-01 00:01:00  13646.48  13658.75  13610.18  13658.75    2.663188   \n",
       "2018-01-01 00:02:00  13616.93  13616.93  13610.06  13610.22    0.084653   \n",
       "2018-01-01 00:03:00  13610.27  13639.09  13610.27  13639.09    7.182986   \n",
       "2018-01-01 00:04:00  13635.35  13636.35  13620.00   13620.0    1.069665   \n",
       "...                       ...       ...       ...       ...         ...   \n",
       "2018-03-31 23:55:00   6935.01   6939.07   6922.56   6922.56    1.044354   \n",
       "2018-03-31 23:56:00   6922.02   6922.02   6918.00   6920.32    3.069539   \n",
       "2018-03-31 23:57:00   6920.33   6936.42   6920.33   6934.72   28.239049   \n",
       "2018-03-31 23:58:00   6927.65   6929.42   6927.65   6927.65    0.839507   \n",
       "2018-03-31 23:59:00   6929.98   6929.98   6928.00   6928.01    0.209363   \n",
       "\n",
       "                        USD Volume  Weighted Price  \n",
       "Timestamp                                           \n",
       "2018-01-01 00:00:00   45482.128785    13639.647479  \n",
       "2018-01-01 00:01:00   36361.390888    13653.332816  \n",
       "2018-01-01 00:02:00    1152.144036    13610.136247  \n",
       "2018-01-01 00:03:00   97856.416478    13623.361128  \n",
       "2018-01-01 00:04:00   14582.660932    13632.923329  \n",
       "...                            ...             ...  \n",
       "2018-03-31 23:55:00    7240.034602     6932.550078  \n",
       "2018-03-31 23:56:00   21245.076275     6921.260233  \n",
       "2018-03-31 23:57:00  195789.408220     6933.286106  \n",
       "2018-03-31 23:58:00    5817.007705     6929.080007  \n",
       "2018-03-31 23:59:00    1450.735763     6929.289993  \n",
       "\n",
       "[129540 rows x 7 columns]"
      ]
     },
     "execution_count": 320,
     "metadata": {},
     "output_type": "execute_result"
    }
   ],
   "source": [
    "# Use the str.replace function to remove the dollar sign, $\n",
    "bitstamp.loc[:, \"Close\"] = bitstamp.loc[:, \"Close\"].str.replace(\"$\", \"\")\n",
    "bitstamp"
   ]
  },
  {
   "cell_type": "code",
   "execution_count": null,
   "metadata": {},
   "outputs": [],
   "source": [
    "In this step, we are removing any kind of symbold from the data such as the dollar signs"
   ]
  },
  {
   "cell_type": "markdown",
   "metadata": {},
   "source": [
    "### Step 3: Convert the data type of the Close column to a `float`."
   ]
  },
  {
   "cell_type": "code",
   "execution_count": 119,
   "metadata": {},
   "outputs": [
    {
     "data": {
      "text/plain": [
       "Open              float64\n",
       "High              float64\n",
       "Low               float64\n",
       "Close             float64\n",
       "BTC Volume        float64\n",
       "USD Volume        float64\n",
       "Weighted Price    float64\n",
       "dtype: object"
      ]
     },
     "execution_count": 119,
     "metadata": {},
     "output_type": "execute_result"
    }
   ],
   "source": [
    "# Convert the Close data type to a float\n",
    "bitstamp.loc[:, \"Close\"] = bitstamp.loc[:, \"Close\"].astype(\"float\")\n",
    "bitstamp.dtypes"
   ]
  },
  {
   "cell_type": "markdown",
   "metadata": {},
   "source": [
    "### Step 4: Review the data for duplicated values, and drop them if necessary."
   ]
  },
  {
   "cell_type": "code",
   "execution_count": 120,
   "metadata": {},
   "outputs": [
    {
     "data": {
      "text/html": [
       "<div>\n",
       "<style scoped>\n",
       "    .dataframe tbody tr th:only-of-type {\n",
       "        vertical-align: middle;\n",
       "    }\n",
       "\n",
       "    .dataframe tbody tr th {\n",
       "        vertical-align: top;\n",
       "    }\n",
       "\n",
       "    .dataframe thead th {\n",
       "        text-align: right;\n",
       "    }\n",
       "</style>\n",
       "<table border=\"1\" class=\"dataframe\">\n",
       "  <thead>\n",
       "    <tr style=\"text-align: right;\">\n",
       "      <th></th>\n",
       "      <th>Open</th>\n",
       "      <th>High</th>\n",
       "      <th>Low</th>\n",
       "      <th>Close</th>\n",
       "      <th>BTC Volume</th>\n",
       "      <th>USD Volume</th>\n",
       "      <th>Weighted Price</th>\n",
       "    </tr>\n",
       "    <tr>\n",
       "      <th>Timestamp</th>\n",
       "      <th></th>\n",
       "      <th></th>\n",
       "      <th></th>\n",
       "      <th></th>\n",
       "      <th></th>\n",
       "      <th></th>\n",
       "      <th></th>\n",
       "    </tr>\n",
       "  </thead>\n",
       "  <tbody>\n",
       "    <tr>\n",
       "      <th>2018-01-01 00:00:00</th>\n",
       "      <td>13681.04</td>\n",
       "      <td>13681.04</td>\n",
       "      <td>13637.93</td>\n",
       "      <td>13646.48</td>\n",
       "      <td>3.334553</td>\n",
       "      <td>45482.128785</td>\n",
       "      <td>13639.647479</td>\n",
       "    </tr>\n",
       "    <tr>\n",
       "      <th>2018-01-01 00:01:00</th>\n",
       "      <td>13646.48</td>\n",
       "      <td>13658.75</td>\n",
       "      <td>13610.18</td>\n",
       "      <td>13658.75</td>\n",
       "      <td>2.663188</td>\n",
       "      <td>36361.390888</td>\n",
       "      <td>13653.332816</td>\n",
       "    </tr>\n",
       "    <tr>\n",
       "      <th>2018-01-01 00:02:00</th>\n",
       "      <td>13616.93</td>\n",
       "      <td>13616.93</td>\n",
       "      <td>13610.06</td>\n",
       "      <td>13610.22</td>\n",
       "      <td>0.084653</td>\n",
       "      <td>1152.144036</td>\n",
       "      <td>13610.136247</td>\n",
       "    </tr>\n",
       "    <tr>\n",
       "      <th>2018-01-01 00:03:00</th>\n",
       "      <td>13610.27</td>\n",
       "      <td>13639.09</td>\n",
       "      <td>13610.27</td>\n",
       "      <td>13639.09</td>\n",
       "      <td>7.182986</td>\n",
       "      <td>97856.416478</td>\n",
       "      <td>13623.361128</td>\n",
       "    </tr>\n",
       "    <tr>\n",
       "      <th>2018-01-01 00:04:00</th>\n",
       "      <td>13635.35</td>\n",
       "      <td>13636.35</td>\n",
       "      <td>13620.00</td>\n",
       "      <td>13620.00</td>\n",
       "      <td>1.069665</td>\n",
       "      <td>14582.660932</td>\n",
       "      <td>13632.923329</td>\n",
       "    </tr>\n",
       "    <tr>\n",
       "      <th>...</th>\n",
       "      <td>...</td>\n",
       "      <td>...</td>\n",
       "      <td>...</td>\n",
       "      <td>...</td>\n",
       "      <td>...</td>\n",
       "      <td>...</td>\n",
       "      <td>...</td>\n",
       "    </tr>\n",
       "    <tr>\n",
       "      <th>2018-03-31 23:55:00</th>\n",
       "      <td>6935.01</td>\n",
       "      <td>6939.07</td>\n",
       "      <td>6922.56</td>\n",
       "      <td>6922.56</td>\n",
       "      <td>1.044354</td>\n",
       "      <td>7240.034602</td>\n",
       "      <td>6932.550078</td>\n",
       "    </tr>\n",
       "    <tr>\n",
       "      <th>2018-03-31 23:56:00</th>\n",
       "      <td>6922.02</td>\n",
       "      <td>6922.02</td>\n",
       "      <td>6918.00</td>\n",
       "      <td>6920.32</td>\n",
       "      <td>3.069539</td>\n",
       "      <td>21245.076275</td>\n",
       "      <td>6921.260233</td>\n",
       "    </tr>\n",
       "    <tr>\n",
       "      <th>2018-03-31 23:57:00</th>\n",
       "      <td>6920.33</td>\n",
       "      <td>6936.42</td>\n",
       "      <td>6920.33</td>\n",
       "      <td>6934.72</td>\n",
       "      <td>28.239049</td>\n",
       "      <td>195789.408220</td>\n",
       "      <td>6933.286106</td>\n",
       "    </tr>\n",
       "    <tr>\n",
       "      <th>2018-03-31 23:58:00</th>\n",
       "      <td>6927.65</td>\n",
       "      <td>6929.42</td>\n",
       "      <td>6927.65</td>\n",
       "      <td>6927.65</td>\n",
       "      <td>0.839507</td>\n",
       "      <td>5817.007705</td>\n",
       "      <td>6929.080007</td>\n",
       "    </tr>\n",
       "    <tr>\n",
       "      <th>2018-03-31 23:59:00</th>\n",
       "      <td>6929.98</td>\n",
       "      <td>6929.98</td>\n",
       "      <td>6928.00</td>\n",
       "      <td>6928.01</td>\n",
       "      <td>0.209363</td>\n",
       "      <td>1450.735763</td>\n",
       "      <td>6929.289993</td>\n",
       "    </tr>\n",
       "  </tbody>\n",
       "</table>\n",
       "<p>129068 rows × 7 columns</p>\n",
       "</div>"
      ],
      "text/plain": [
       "                         Open      High       Low     Close  BTC Volume  \\\n",
       "Timestamp                                                                 \n",
       "2018-01-01 00:00:00  13681.04  13681.04  13637.93  13646.48    3.334553   \n",
       "2018-01-01 00:01:00  13646.48  13658.75  13610.18  13658.75    2.663188   \n",
       "2018-01-01 00:02:00  13616.93  13616.93  13610.06  13610.22    0.084653   \n",
       "2018-01-01 00:03:00  13610.27  13639.09  13610.27  13639.09    7.182986   \n",
       "2018-01-01 00:04:00  13635.35  13636.35  13620.00  13620.00    1.069665   \n",
       "...                       ...       ...       ...       ...         ...   \n",
       "2018-03-31 23:55:00   6935.01   6939.07   6922.56   6922.56    1.044354   \n",
       "2018-03-31 23:56:00   6922.02   6922.02   6918.00   6920.32    3.069539   \n",
       "2018-03-31 23:57:00   6920.33   6936.42   6920.33   6934.72   28.239049   \n",
       "2018-03-31 23:58:00   6927.65   6929.42   6927.65   6927.65    0.839507   \n",
       "2018-03-31 23:59:00   6929.98   6929.98   6928.00   6928.01    0.209363   \n",
       "\n",
       "                        USD Volume  Weighted Price  \n",
       "Timestamp                                           \n",
       "2018-01-01 00:00:00   45482.128785    13639.647479  \n",
       "2018-01-01 00:01:00   36361.390888    13653.332816  \n",
       "2018-01-01 00:02:00    1152.144036    13610.136247  \n",
       "2018-01-01 00:03:00   97856.416478    13623.361128  \n",
       "2018-01-01 00:04:00   14582.660932    13632.923329  \n",
       "...                            ...             ...  \n",
       "2018-03-31 23:55:00    7240.034602     6932.550078  \n",
       "2018-03-31 23:56:00   21245.076275     6921.260233  \n",
       "2018-03-31 23:57:00  195789.408220     6933.286106  \n",
       "2018-03-31 23:58:00    5817.007705     6929.080007  \n",
       "2018-03-31 23:59:00    1450.735763     6929.289993  \n",
       "\n",
       "[129068 rows x 7 columns]"
      ]
     },
     "execution_count": 120,
     "metadata": {},
     "output_type": "execute_result"
    }
   ],
   "source": [
    "# Review the data for duplicate values, and drop them if necessary\n",
    "bitstamp.duplicated().sum()\n",
    "bitstamp.drop_duplicates()"
   ]
  },
  {
   "cell_type": "code",
   "execution_count": null,
   "metadata": {},
   "outputs": [],
   "source": [
    "We have reviewed the data and dropped any duplicates"
   ]
  },
  {
   "cell_type": "markdown",
   "metadata": {},
   "source": [
    "### Step 5: Repeat Steps 1–4 for the coinbase DataFrame."
   ]
  },
  {
   "cell_type": "code",
   "execution_count": 121,
   "metadata": {},
   "outputs": [
    {
     "data": {
      "text/plain": [
       "Open              218\n",
       "High              218\n",
       "Low               218\n",
       "Close               0\n",
       "BTC Volume        218\n",
       "USD Volume        218\n",
       "Weighted Price    218\n",
       "dtype: int64"
      ]
     },
     "execution_count": 121,
     "metadata": {},
     "output_type": "execute_result"
    }
   ],
   "source": [
    "# Repeat Steps 1–4 for the coinbase DataFrame\n",
    "coinbase.isnull().sum()"
   ]
  },
  {
   "cell_type": "code",
   "execution_count": 122,
   "metadata": {},
   "outputs": [
    {
     "name": "stderr",
     "output_type": "stream",
     "text": [
      "/var/folders/tn/vktwrrh95yg4q937cv1p8yyh0000gn/T/ipykernel_80255/2143874746.py:1: FutureWarning: The default value of regex will change from True to False in a future version. In addition, single character regular expressions will *not* be treated as literal strings when regex=True.\n",
      "  coinbase.loc[:, \"Close\"] = coinbase.loc[:, \"Close\"].str.replace(\"$\", \"\")\n"
     ]
    },
    {
     "data": {
      "text/html": [
       "<div>\n",
       "<style scoped>\n",
       "    .dataframe tbody tr th:only-of-type {\n",
       "        vertical-align: middle;\n",
       "    }\n",
       "\n",
       "    .dataframe tbody tr th {\n",
       "        vertical-align: top;\n",
       "    }\n",
       "\n",
       "    .dataframe thead th {\n",
       "        text-align: right;\n",
       "    }\n",
       "</style>\n",
       "<table border=\"1\" class=\"dataframe\">\n",
       "  <thead>\n",
       "    <tr style=\"text-align: right;\">\n",
       "      <th></th>\n",
       "      <th>Open</th>\n",
       "      <th>High</th>\n",
       "      <th>Low</th>\n",
       "      <th>Close</th>\n",
       "      <th>BTC Volume</th>\n",
       "      <th>USD Volume</th>\n",
       "      <th>Weighted Price</th>\n",
       "    </tr>\n",
       "    <tr>\n",
       "      <th>Timestamp</th>\n",
       "      <th></th>\n",
       "      <th></th>\n",
       "      <th></th>\n",
       "      <th></th>\n",
       "      <th></th>\n",
       "      <th></th>\n",
       "      <th></th>\n",
       "    </tr>\n",
       "  </thead>\n",
       "  <tbody>\n",
       "    <tr>\n",
       "      <th>2018-01-01 00:00:00</th>\n",
       "      <td>13620.00</td>\n",
       "      <td>13620.00</td>\n",
       "      <td>13608.49</td>\n",
       "      <td>13608.49</td>\n",
       "      <td>20.812754</td>\n",
       "      <td>283451.085370</td>\n",
       "      <td>13619.105106</td>\n",
       "    </tr>\n",
       "    <tr>\n",
       "      <th>2018-01-01 00:01:00</th>\n",
       "      <td>13607.14</td>\n",
       "      <td>13607.14</td>\n",
       "      <td>13601.66</td>\n",
       "      <td>13601.66</td>\n",
       "      <td>13.474359</td>\n",
       "      <td>183283.978010</td>\n",
       "      <td>13602.426919</td>\n",
       "    </tr>\n",
       "    <tr>\n",
       "      <th>2018-01-01 00:02:00</th>\n",
       "      <td>13601.44</td>\n",
       "      <td>13601.44</td>\n",
       "      <td>13580.00</td>\n",
       "      <td>13580.0</td>\n",
       "      <td>11.536360</td>\n",
       "      <td>156789.196860</td>\n",
       "      <td>13590.872506</td>\n",
       "    </tr>\n",
       "    <tr>\n",
       "      <th>2018-01-01 00:03:00</th>\n",
       "      <td>13587.31</td>\n",
       "      <td>13587.31</td>\n",
       "      <td>13542.70</td>\n",
       "      <td>13550.34</td>\n",
       "      <td>16.328039</td>\n",
       "      <td>221413.641820</td>\n",
       "      <td>13560.332806</td>\n",
       "    </tr>\n",
       "    <tr>\n",
       "      <th>2018-01-01 00:04:00</th>\n",
       "      <td>13550.34</td>\n",
       "      <td>13585.95</td>\n",
       "      <td>13550.34</td>\n",
       "      <td>13583.44</td>\n",
       "      <td>9.955364</td>\n",
       "      <td>135141.269440</td>\n",
       "      <td>13574.719401</td>\n",
       "    </tr>\n",
       "    <tr>\n",
       "      <th>...</th>\n",
       "      <td>...</td>\n",
       "      <td>...</td>\n",
       "      <td>...</td>\n",
       "      <td>...</td>\n",
       "      <td>...</td>\n",
       "      <td>...</td>\n",
       "      <td>...</td>\n",
       "    </tr>\n",
       "    <tr>\n",
       "      <th>2018-03-31 23:55:00</th>\n",
       "      <td>6945.20</td>\n",
       "      <td>6948.06</td>\n",
       "      <td>6930.00</td>\n",
       "      <td>6930.0</td>\n",
       "      <td>5.802288</td>\n",
       "      <td>40243.918480</td>\n",
       "      <td>6935.869979</td>\n",
       "    </tr>\n",
       "    <tr>\n",
       "      <th>2018-03-31 23:56:00</th>\n",
       "      <td>6930.00</td>\n",
       "      <td>6930.01</td>\n",
       "      <td>6930.00</td>\n",
       "      <td>6930.01</td>\n",
       "      <td>0.625053</td>\n",
       "      <td>4331.620701</td>\n",
       "      <td>6930.005567</td>\n",
       "    </tr>\n",
       "    <tr>\n",
       "      <th>2018-03-31 23:57:00</th>\n",
       "      <td>6930.01</td>\n",
       "      <td>6933.91</td>\n",
       "      <td>6930.01</td>\n",
       "      <td>6933.91</td>\n",
       "      <td>0.776431</td>\n",
       "      <td>5382.532162</td>\n",
       "      <td>6932.405747</td>\n",
       "    </tr>\n",
       "    <tr>\n",
       "      <th>2018-03-31 23:58:00</th>\n",
       "      <td>6933.91</td>\n",
       "      <td>6938.00</td>\n",
       "      <td>6933.90</td>\n",
       "      <td>6937.31</td>\n",
       "      <td>0.133413</td>\n",
       "      <td>925.356547</td>\n",
       "      <td>6936.048538</td>\n",
       "    </tr>\n",
       "    <tr>\n",
       "      <th>2018-03-31 23:59:00</th>\n",
       "      <td>6937.30</td>\n",
       "      <td>6937.30</td>\n",
       "      <td>6931.09</td>\n",
       "      <td>6934.0</td>\n",
       "      <td>1.012720</td>\n",
       "      <td>7022.275088</td>\n",
       "      <td>6934.070316</td>\n",
       "    </tr>\n",
       "  </tbody>\n",
       "</table>\n",
       "<p>129540 rows × 7 columns</p>\n",
       "</div>"
      ],
      "text/plain": [
       "                         Open      High       Low     Close  BTC Volume  \\\n",
       "Timestamp                                                                 \n",
       "2018-01-01 00:00:00  13620.00  13620.00  13608.49  13608.49   20.812754   \n",
       "2018-01-01 00:01:00  13607.14  13607.14  13601.66  13601.66   13.474359   \n",
       "2018-01-01 00:02:00  13601.44  13601.44  13580.00   13580.0   11.536360   \n",
       "2018-01-01 00:03:00  13587.31  13587.31  13542.70  13550.34   16.328039   \n",
       "2018-01-01 00:04:00  13550.34  13585.95  13550.34  13583.44    9.955364   \n",
       "...                       ...       ...       ...       ...         ...   \n",
       "2018-03-31 23:55:00   6945.20   6948.06   6930.00    6930.0    5.802288   \n",
       "2018-03-31 23:56:00   6930.00   6930.01   6930.00   6930.01    0.625053   \n",
       "2018-03-31 23:57:00   6930.01   6933.91   6930.01   6933.91    0.776431   \n",
       "2018-03-31 23:58:00   6933.91   6938.00   6933.90   6937.31    0.133413   \n",
       "2018-03-31 23:59:00   6937.30   6937.30   6931.09    6934.0    1.012720   \n",
       "\n",
       "                        USD Volume  Weighted Price  \n",
       "Timestamp                                           \n",
       "2018-01-01 00:00:00  283451.085370    13619.105106  \n",
       "2018-01-01 00:01:00  183283.978010    13602.426919  \n",
       "2018-01-01 00:02:00  156789.196860    13590.872506  \n",
       "2018-01-01 00:03:00  221413.641820    13560.332806  \n",
       "2018-01-01 00:04:00  135141.269440    13574.719401  \n",
       "...                            ...             ...  \n",
       "2018-03-31 23:55:00   40243.918480     6935.869979  \n",
       "2018-03-31 23:56:00    4331.620701     6930.005567  \n",
       "2018-03-31 23:57:00    5382.532162     6932.405747  \n",
       "2018-03-31 23:58:00     925.356547     6936.048538  \n",
       "2018-03-31 23:59:00    7022.275088     6934.070316  \n",
       "\n",
       "[129540 rows x 7 columns]"
      ]
     },
     "execution_count": 122,
     "metadata": {},
     "output_type": "execute_result"
    }
   ],
   "source": [
    "coinbase.loc[:, \"Close\"] = coinbase.loc[:, \"Close\"].str.replace(\"$\", \"\")\n",
    "coinbase"
   ]
  },
  {
   "cell_type": "code",
   "execution_count": 123,
   "metadata": {},
   "outputs": [
    {
     "data": {
      "text/plain": [
       "Open              float64\n",
       "High              float64\n",
       "Low               float64\n",
       "Close             float64\n",
       "BTC Volume        float64\n",
       "USD Volume        float64\n",
       "Weighted Price    float64\n",
       "dtype: object"
      ]
     },
     "execution_count": 123,
     "metadata": {},
     "output_type": "execute_result"
    }
   ],
   "source": [
    "coinbase.loc[:, \"Close\"] = coinbase.loc[:, \"Close\"].astype(\"float\")\n",
    "coinbase.dtypes"
   ]
  },
  {
   "cell_type": "code",
   "execution_count": 124,
   "metadata": {},
   "outputs": [
    {
     "data": {
      "text/html": [
       "<div>\n",
       "<style scoped>\n",
       "    .dataframe tbody tr th:only-of-type {\n",
       "        vertical-align: middle;\n",
       "    }\n",
       "\n",
       "    .dataframe tbody tr th {\n",
       "        vertical-align: top;\n",
       "    }\n",
       "\n",
       "    .dataframe thead th {\n",
       "        text-align: right;\n",
       "    }\n",
       "</style>\n",
       "<table border=\"1\" class=\"dataframe\">\n",
       "  <thead>\n",
       "    <tr style=\"text-align: right;\">\n",
       "      <th></th>\n",
       "      <th>Open</th>\n",
       "      <th>High</th>\n",
       "      <th>Low</th>\n",
       "      <th>Close</th>\n",
       "      <th>BTC Volume</th>\n",
       "      <th>USD Volume</th>\n",
       "      <th>Weighted Price</th>\n",
       "    </tr>\n",
       "    <tr>\n",
       "      <th>Timestamp</th>\n",
       "      <th></th>\n",
       "      <th></th>\n",
       "      <th></th>\n",
       "      <th></th>\n",
       "      <th></th>\n",
       "      <th></th>\n",
       "      <th></th>\n",
       "    </tr>\n",
       "  </thead>\n",
       "  <tbody>\n",
       "    <tr>\n",
       "      <th>2018-01-01 00:00:00</th>\n",
       "      <td>13681.04</td>\n",
       "      <td>13681.04</td>\n",
       "      <td>13637.93</td>\n",
       "      <td>13646.48</td>\n",
       "      <td>3.334553</td>\n",
       "      <td>45482.128785</td>\n",
       "      <td>13639.647479</td>\n",
       "    </tr>\n",
       "    <tr>\n",
       "      <th>2018-01-01 00:01:00</th>\n",
       "      <td>13646.48</td>\n",
       "      <td>13658.75</td>\n",
       "      <td>13610.18</td>\n",
       "      <td>13658.75</td>\n",
       "      <td>2.663188</td>\n",
       "      <td>36361.390888</td>\n",
       "      <td>13653.332816</td>\n",
       "    </tr>\n",
       "    <tr>\n",
       "      <th>2018-01-01 00:02:00</th>\n",
       "      <td>13616.93</td>\n",
       "      <td>13616.93</td>\n",
       "      <td>13610.06</td>\n",
       "      <td>13610.22</td>\n",
       "      <td>0.084653</td>\n",
       "      <td>1152.144036</td>\n",
       "      <td>13610.136247</td>\n",
       "    </tr>\n",
       "    <tr>\n",
       "      <th>2018-01-01 00:03:00</th>\n",
       "      <td>13610.27</td>\n",
       "      <td>13639.09</td>\n",
       "      <td>13610.27</td>\n",
       "      <td>13639.09</td>\n",
       "      <td>7.182986</td>\n",
       "      <td>97856.416478</td>\n",
       "      <td>13623.361128</td>\n",
       "    </tr>\n",
       "    <tr>\n",
       "      <th>2018-01-01 00:04:00</th>\n",
       "      <td>13635.35</td>\n",
       "      <td>13636.35</td>\n",
       "      <td>13620.00</td>\n",
       "      <td>13620.00</td>\n",
       "      <td>1.069665</td>\n",
       "      <td>14582.660932</td>\n",
       "      <td>13632.923329</td>\n",
       "    </tr>\n",
       "    <tr>\n",
       "      <th>...</th>\n",
       "      <td>...</td>\n",
       "      <td>...</td>\n",
       "      <td>...</td>\n",
       "      <td>...</td>\n",
       "      <td>...</td>\n",
       "      <td>...</td>\n",
       "      <td>...</td>\n",
       "    </tr>\n",
       "    <tr>\n",
       "      <th>2018-03-31 23:55:00</th>\n",
       "      <td>6935.01</td>\n",
       "      <td>6939.07</td>\n",
       "      <td>6922.56</td>\n",
       "      <td>6922.56</td>\n",
       "      <td>1.044354</td>\n",
       "      <td>7240.034602</td>\n",
       "      <td>6932.550078</td>\n",
       "    </tr>\n",
       "    <tr>\n",
       "      <th>2018-03-31 23:56:00</th>\n",
       "      <td>6922.02</td>\n",
       "      <td>6922.02</td>\n",
       "      <td>6918.00</td>\n",
       "      <td>6920.32</td>\n",
       "      <td>3.069539</td>\n",
       "      <td>21245.076275</td>\n",
       "      <td>6921.260233</td>\n",
       "    </tr>\n",
       "    <tr>\n",
       "      <th>2018-03-31 23:57:00</th>\n",
       "      <td>6920.33</td>\n",
       "      <td>6936.42</td>\n",
       "      <td>6920.33</td>\n",
       "      <td>6934.72</td>\n",
       "      <td>28.239049</td>\n",
       "      <td>195789.408220</td>\n",
       "      <td>6933.286106</td>\n",
       "    </tr>\n",
       "    <tr>\n",
       "      <th>2018-03-31 23:58:00</th>\n",
       "      <td>6927.65</td>\n",
       "      <td>6929.42</td>\n",
       "      <td>6927.65</td>\n",
       "      <td>6927.65</td>\n",
       "      <td>0.839507</td>\n",
       "      <td>5817.007705</td>\n",
       "      <td>6929.080007</td>\n",
       "    </tr>\n",
       "    <tr>\n",
       "      <th>2018-03-31 23:59:00</th>\n",
       "      <td>6929.98</td>\n",
       "      <td>6929.98</td>\n",
       "      <td>6928.00</td>\n",
       "      <td>6928.01</td>\n",
       "      <td>0.209363</td>\n",
       "      <td>1450.735763</td>\n",
       "      <td>6929.289993</td>\n",
       "    </tr>\n",
       "  </tbody>\n",
       "</table>\n",
       "<p>129068 rows × 7 columns</p>\n",
       "</div>"
      ],
      "text/plain": [
       "                         Open      High       Low     Close  BTC Volume  \\\n",
       "Timestamp                                                                 \n",
       "2018-01-01 00:00:00  13681.04  13681.04  13637.93  13646.48    3.334553   \n",
       "2018-01-01 00:01:00  13646.48  13658.75  13610.18  13658.75    2.663188   \n",
       "2018-01-01 00:02:00  13616.93  13616.93  13610.06  13610.22    0.084653   \n",
       "2018-01-01 00:03:00  13610.27  13639.09  13610.27  13639.09    7.182986   \n",
       "2018-01-01 00:04:00  13635.35  13636.35  13620.00  13620.00    1.069665   \n",
       "...                       ...       ...       ...       ...         ...   \n",
       "2018-03-31 23:55:00   6935.01   6939.07   6922.56   6922.56    1.044354   \n",
       "2018-03-31 23:56:00   6922.02   6922.02   6918.00   6920.32    3.069539   \n",
       "2018-03-31 23:57:00   6920.33   6936.42   6920.33   6934.72   28.239049   \n",
       "2018-03-31 23:58:00   6927.65   6929.42   6927.65   6927.65    0.839507   \n",
       "2018-03-31 23:59:00   6929.98   6929.98   6928.00   6928.01    0.209363   \n",
       "\n",
       "                        USD Volume  Weighted Price  \n",
       "Timestamp                                           \n",
       "2018-01-01 00:00:00   45482.128785    13639.647479  \n",
       "2018-01-01 00:01:00   36361.390888    13653.332816  \n",
       "2018-01-01 00:02:00    1152.144036    13610.136247  \n",
       "2018-01-01 00:03:00   97856.416478    13623.361128  \n",
       "2018-01-01 00:04:00   14582.660932    13632.923329  \n",
       "...                            ...             ...  \n",
       "2018-03-31 23:55:00    7240.034602     6932.550078  \n",
       "2018-03-31 23:56:00   21245.076275     6921.260233  \n",
       "2018-03-31 23:57:00  195789.408220     6933.286106  \n",
       "2018-03-31 23:58:00    5817.007705     6929.080007  \n",
       "2018-03-31 23:59:00    1450.735763     6929.289993  \n",
       "\n",
       "[129068 rows x 7 columns]"
      ]
     },
     "execution_count": 124,
     "metadata": {},
     "output_type": "execute_result"
    }
   ],
   "source": [
    "bitstamp.duplicated().sum()\n",
    "bitstamp.drop_duplicates()"
   ]
  },
  {
   "cell_type": "code",
   "execution_count": null,
   "metadata": {},
   "outputs": [],
   "source": [
    "We are doing the same thing as we did with Bitstamp and removing any duplicates from the data."
   ]
  },
  {
   "cell_type": "markdown",
   "metadata": {},
   "source": [
    "## Analyze the Data\n",
    "\n",
    "Your analysis consists of the following tasks: \n",
    "\n",
    "1. Choose the columns of data on which to focus your analysis.\n",
    "\n",
    "2. Get the summary statistics and plot the data.\n",
    "\n",
    "3. Focus your analysis on specific dates.\n",
    "\n",
    "4. Calculate the arbitrage profits."
   ]
  },
  {
   "cell_type": "markdown",
   "metadata": {},
   "source": [
    "### Step 1: Choose columns of data on which to focus your analysis.\n",
    "\n",
    "Select the data you want to analyze. Use `loc` or `iloc` to select the following columns of data for both the bitstamp and coinbase DataFrames:\n",
    "\n",
    "* Timestamp (index)\n",
    "\n",
    "* Close\n"
   ]
  },
  {
   "cell_type": "code",
   "execution_count": 125,
   "metadata": {},
   "outputs": [
    {
     "data": {
      "text/plain": [
       "Timestamp\n",
       "2018-01-01 00:00:00    13646.48\n",
       "2018-01-01 00:01:00    13658.75\n",
       "2018-01-01 00:02:00    13610.22\n",
       "2018-01-01 00:03:00    13639.09\n",
       "2018-01-01 00:04:00    13620.00\n",
       "Name: Close, dtype: float64"
      ]
     },
     "execution_count": 125,
     "metadata": {},
     "output_type": "execute_result"
    }
   ],
   "source": [
    "# Use loc or iloc to select `Timestamp (the index)` and `Close` from bitstamp DataFrame\n",
    "bitstamp_sliced = bitstamp.iloc[:,3]\n",
    "\n",
    "# Review the first five rows of the DataFrame\n",
    "bitstamp_sliced.head()"
   ]
  },
  {
   "cell_type": "code",
   "execution_count": 126,
   "metadata": {},
   "outputs": [
    {
     "data": {
      "text/plain": [
       "Timestamp\n",
       "2018-01-01 00:00:00    13608.49\n",
       "2018-01-01 00:01:00    13601.66\n",
       "2018-01-01 00:02:00    13580.00\n",
       "2018-01-01 00:03:00    13550.34\n",
       "2018-01-01 00:04:00    13583.44\n",
       "Name: Close, dtype: float64"
      ]
     },
     "execution_count": 126,
     "metadata": {},
     "output_type": "execute_result"
    }
   ],
   "source": [
    "# Use loc or iloc to select `Timestamp (the index)` and `Close` from coinbase DataFrame\n",
    "coinbase_sliced = coinbase.iloc[:,3]\n",
    "\n",
    "# Review the first five rows of the DataFrame\n",
    "coinbase_sliced.head()"
   ]
  },
  {
   "cell_type": "code",
   "execution_count": null,
   "metadata": {},
   "outputs": [],
   "source": [
    "We choosing to closely analyze two columns from the data which are the timestamp and the \n",
    "closing trade prices by slicing the needed information from the data. "
   ]
  },
  {
   "cell_type": "markdown",
   "metadata": {},
   "source": [
    "### Step 2: Get summary statistics and plot the data.\n",
    "\n",
    "Sort through the time series data associated with the bitstamp and coinbase DataFrames to identify potential arbitrage opportunities. To do so, complete the following steps:\n",
    "\n",
    "1. Generate the summary statistics for each DataFrame by using the `describe` function.\n",
    "\n",
    "2. For each DataFrame, create a line plot for the full period of time in the dataset. Be sure to tailor the figure size, title, and color to each visualization.\n",
    "\n",
    "3. In one plot, overlay the visualizations that you created in Step 2 for bitstamp and coinbase. Be sure to adjust the legend and title for this new visualization.\n",
    "\n",
    "4. Using the `loc` and `plot` functions, plot the price action of the assets on each exchange for different dates and times. Your goal is to evaluate how the spread between the two exchanges changed across the time period that the datasets define. Did the degree of spread change as time progressed?"
   ]
  },
  {
   "cell_type": "code",
   "execution_count": 127,
   "metadata": {},
   "outputs": [
    {
     "data": {
      "text/plain": [
       "count    129067.000000\n",
       "mean      10459.842453\n",
       "std        2315.976088\n",
       "min        5944.000000\n",
       "25%        8613.370000\n",
       "50%       10145.950000\n",
       "75%       11444.810000\n",
       "max       17234.980000\n",
       "Name: Close, dtype: float64"
      ]
     },
     "execution_count": 127,
     "metadata": {},
     "output_type": "execute_result"
    }
   ],
   "source": [
    "# Generate the summary statistics for the bitstamp DataFrame\n",
    "bitstamp_sliced.describe()"
   ]
  },
  {
   "cell_type": "code",
   "execution_count": 128,
   "metadata": {},
   "outputs": [
    {
     "data": {
      "text/plain": [
       "count    129322.000000\n",
       "mean      10449.140958\n",
       "std        2317.197419\n",
       "min        5882.310000\n",
       "25%        8609.230000\n",
       "50%       10137.440000\n",
       "75%       11397.237500\n",
       "max       17177.990000\n",
       "Name: Close, dtype: float64"
      ]
     },
     "execution_count": 128,
     "metadata": {},
     "output_type": "execute_result"
    }
   ],
   "source": [
    "# Generate the summary statistics for the coinbase DataFrame\n",
    "coinbase_sliced.describe()"
   ]
  },
  {
   "cell_type": "code",
   "execution_count": null,
   "metadata": {},
   "outputs": [],
   "source": [
    "After slicing the close and index, we are seeing the summary statistics for both bitstamp and \n",
    "coinbase for a better understanding of the comparison. As we can see, the numbers are very \n",
    "close to each other. "
   ]
  },
  {
   "cell_type": "code",
   "execution_count": 129,
   "metadata": {},
   "outputs": [
    {
     "data": {
      "text/plain": [
       "<AxesSubplot:title={'center':'Bitstamp Closing Prices'}, xlabel='Timestamp'>"
      ]
     },
     "execution_count": 129,
     "metadata": {},
     "output_type": "execute_result"
    },
    {
     "data": {
      "image/png": "[encoded data removed]",
      "text/plain": [
       "<Figure size 720x504 with 1 Axes>"
      ]
     },
     "metadata": {
      "needs_background": "light"
     },
     "output_type": "display_data"
    }
   ],
   "source": [
    "# Create a line plot for the bitstamp DataFrame for the full length of time in the dataset \n",
    "# Be sure that the figure size, title, and color are tailored to each visualization\n",
    "bitstamp_sliced.plot( figsize = (10,7), title = \"Bitstamp Closing Prices\", color = \"blue\")"
   ]
  },
  {
   "cell_type": "code",
   "execution_count": null,
   "metadata": {},
   "outputs": [],
   "source": [
    "The above graph shows us the Closing prices of Bitstamp. we can tell that Bitcoin is fairly\n",
    "volatile especially in january and february. "
   ]
  },
  {
   "cell_type": "code",
   "execution_count": 271,
   "metadata": {},
   "outputs": [
    {
     "data": {
      "text/plain": [
       "<AxesSubplot:title={'center':'Coinbase Closing Prices'}, xlabel='Timestamp'>"
      ]
     },
     "execution_count": 271,
     "metadata": {},
     "output_type": "execute_result"
    },
    {
     "data": {
      "image/png": "[encoded data removed]",
      "text/plain": [
       "<Figure size 720x504 with 1 Axes>"
      ]
     },
     "metadata": {
      "needs_background": "light"
     },
     "output_type": "display_data"
    }
   ],
   "source": [
    "# Create a line plot for the coinbase DataFrame for the full length of time in the dataset \n",
    "# Be sure that the figure size, title, and color are tailored to each visualization\n",
    "coinbase_sliced.plot( figsize = (10,7), title = \"Coinbase Closing Prices\", color = \"pink\")"
   ]
  },
  {
   "cell_type": "code",
   "execution_count": null,
   "metadata": {},
   "outputs": [],
   "source": [
    "This is showing us the Closing prices for Coinbase which is also pretty volatile and looks \n",
    "ery similar to that of bitstamp but it is hard to tell without combining them in one axis. "
   ]
  },
  {
   "cell_type": "code",
   "execution_count": 131,
   "metadata": {},
   "outputs": [
    {
     "data": {
      "text/plain": [
       "<AxesSubplot:title={'center':'Bitstamp vs. Coinbase'}, xlabel='Timestamp'>"
      ]
     },
     "execution_count": 131,
     "metadata": {},
     "output_type": "execute_result"
    },
    {
     "data": {
      "image/png": "[encoded data removed]",
      "text/plain": [
       "<Figure size 720x504 with 1 Axes>"
      ]
     },
     "metadata": {
      "needs_background": "light"
     },
     "output_type": "display_data"
    }
   ],
   "source": [
    "# Overlay the visualizations for the bitstamp and coinbase DataFrames in one plot\n",
    "# The plot should visualize the prices over the full lenth of the dataset\n",
    "# Be sure to include the parameters: legend, figure size, title, and color and label\n",
    "bitstamp_sliced.plot(legend = True, figsize = (10,7), title= \"Bitstamp vs. Coinbase\", color = \"blue\", label = \"Bitstamp\")\n",
    "coinbase_sliced.plot(legend = True, figsize = (10,7), color = \"pink\", label = \"Coinbase\")"
   ]
  },
  {
   "cell_type": "code",
   "execution_count": null,
   "metadata": {},
   "outputs": [],
   "source": [
    "Here we are finally comparing the two in one graph and we can tell that it is almost identical.\n",
    "But it is still hard to tell from this graph without focusing on a certain month or day. "
   ]
  },
  {
   "cell_type": "code",
   "execution_count": 132,
   "metadata": {},
   "outputs": [
    {
     "data": {
      "text/plain": [
       "<AxesSubplot:title={'center':'Bitstamp vs. Coinbase'}, xlabel='Timestamp'>"
      ]
     },
     "execution_count": 132,
     "metadata": {},
     "output_type": "execute_result"
    },
    {
     "data": {
      "image/png": "[encoded data removed]",
      "text/plain": [
       "<Figure size 720x504 with 1 Axes>"
      ]
     },
     "metadata": {
      "needs_background": "light"
     },
     "output_type": "display_data"
    }
   ],
   "source": [
    "# Using the loc and plot functions, create an overlay plot that visualizes \n",
    "# the price action of both DataFrames for a one month period early in the dataset\n",
    "# Be sure to include the parameters: legend, figure size, title, and color and label\n",
    "bitstamp_sliced.loc['2018-01-01':'2018-02-01'].plot(legend = True, figsize = (10,7), title= \"Bitstamp vs. Coinbase\", color = \"blue\", label = \"Bitstamp\")\n",
    "coinbase_sliced.loc['2018-01-01':'2018-02-01'].plot(legend = True, figsize = (10,7), color = \"pink\", label = \"Coinbase\")"
   ]
  },
  {
   "cell_type": "code",
   "execution_count": null,
   "metadata": {},
   "outputs": [],
   "source": [
    "The first month, we are definitely seeing some price differences by the end of january. "
   ]
  },
  {
   "cell_type": "code",
   "execution_count": 133,
   "metadata": {
    "tags": []
   },
   "outputs": [
    {
     "data": {
      "text/plain": [
       "<AxesSubplot:title={'center':'Bitstamp vs. Coinbase'}, xlabel='Timestamp'>"
      ]
     },
     "execution_count": 133,
     "metadata": {},
     "output_type": "execute_result"
    },
    {
     "data": {
      "image/png": "[encoded data removed]",
      "text/plain": [
       "<Figure size 720x504 with 1 Axes>"
      ]
     },
     "metadata": {
      "needs_background": "light"
     },
     "output_type": "display_data"
    }
   ],
   "source": [
    "# Using the loc and plot functions, create an overlay plot that visualizes \n",
    "# the price action of both DataFrames for a one month period later in the dataset\n",
    "# Be sure to include the parameters: legend, figure size, title, and color and label \n",
    "bitstamp_sliced.loc['2018-03-01':'2018-04-01'].plot(legend = True, figsize = (10,7), title= \"Bitstamp vs. Coinbase\", color = \"blue\", label = \"Bitstamp\")\n",
    "coinbase_sliced.loc['2018-03-01':'2018-04-01'].plot(legend = True, figsize = (10,7), color = \"pink\", label = \"Coinbase\")"
   ]
  },
  {
   "cell_type": "markdown",
   "metadata": {},
   "source": [
    "**Question** Based on the visualizations of the different time periods, has the degree of spread change as time progressed?\n",
    "\n",
    "**Answer** YOUR ANSWER HERE"
   ]
  },
  {
   "cell_type": "code",
   "execution_count": 134,
   "metadata": {},
   "outputs": [
    {
     "ename": "SyntaxError",
     "evalue": "invalid syntax (3566967637.py, line 1)",
     "output_type": "error",
     "traceback": [
      "\u001b[0;36m  File \u001b[0;32m\"/var/folders/tn/vktwrrh95yg4q937cv1p8yyh0000gn/T/ipykernel_80255/3566967637.py\"\u001b[0;36m, line \u001b[0;32m1\u001b[0m\n\u001b[0;31m    The degree of spread did change slightly. The volatility later in the dataset seems to have gotten slightly better than it was at the beginning but there is not a big difference.\u001b[0m\n\u001b[0m        ^\u001b[0m\n\u001b[0;31mSyntaxError\u001b[0m\u001b[0;31m:\u001b[0m invalid syntax\n"
     ]
    }
   ],
   "source": [
    "The degree of spread did change slightly. The volatility later in the dataset seems to have\n",
    "gotten slightly better than it was at the beginning but there is not a big difference."
   ]
  },
  {
   "cell_type": "markdown",
   "metadata": {},
   "source": [
    "### Step 3: Focus Your Analysis on Specific Dates\n",
    "\n",
    "Focus your analysis on specific dates by completing the following steps:\n",
    "\n",
    "1. Select three dates to evaluate for arbitrage profitability. Choose one date that’s early in the dataset, one from the middle of the dataset, and one from the later part of the time period.\n",
    "\n",
    "2. For each of the three dates, generate the summary statistics and then create a box plot. This big-picture view is meant to help you gain a better understanding of the data before you perform your arbitrage calculations. As you compare the data, what conclusions can you draw?"
   ]
  },
  {
   "cell_type": "code",
   "execution_count": 273,
   "metadata": {},
   "outputs": [
    {
     "data": {
      "text/plain": [
       "<AxesSubplot:title={'center':'Bitstamp vs. Coinbase One Date Early'}, xlabel='Timestamp'>"
      ]
     },
     "execution_count": 273,
     "metadata": {},
     "output_type": "execute_result"
    },
    {
     "data": {
      "image/png": "[encoded data removed]",
      "text/plain": [
       "<Figure size 720x504 with 1 Axes>"
      ]
     },
     "metadata": {
      "needs_background": "light"
     },
     "output_type": "display_data"
    }
   ],
   "source": [
    "# Create an overlay plot that visualizes the two dataframes over a period of one day early in the dataset. \n",
    "# Be sure that the plots include the parameters `legend`, `figsize`, `title`, `color` and `label` \n",
    "bitstamp_sliced.loc['2018-01-01'].plot(legend = True, figsize = (10,7), title= \"Bitstamp vs. Coinbase One Date Early\", color = \"blue\", label = \"Bitstamp\")\n",
    "coinbase_sliced.loc['2018-01-01'].plot(legend = True, figsize = (10,7), color = \"pink\", label = \"Coinbase\")"
   ]
  },
  {
   "cell_type": "code",
   "execution_count": 171,
   "metadata": {
    "tags": []
   },
   "outputs": [
    {
     "data": {
      "text/plain": [
       "count    1421.000000\n",
       "mean        5.767368\n",
       "std        46.214511\n",
       "min      -142.000000\n",
       "25%       -26.890000\n",
       "50%         5.480000\n",
       "75%        36.000000\n",
       "max       319.990000\n",
       "Name: Close, dtype: float64"
      ]
     },
     "execution_count": 171,
     "metadata": {},
     "output_type": "execute_result"
    }
   ],
   "source": [
    "# Using the early date that you have selected, calculate the arbitrage spread \n",
    "# by subtracting the bitstamp lower closing prices from the coinbase higher closing prices\n",
    "arbitrage_spread_early = coinbase_sliced.loc['2018-01-01'] - bitstamp_sliced.loc['2018-01-01']\n",
    "\n",
    "# Generate summary statistics for the early DataFrame\n",
    "arbitrage_spread_early.describe()"
   ]
  },
  {
   "cell_type": "code",
   "execution_count": null,
   "metadata": {},
   "outputs": [],
   "source": [
    "From the graph and the summary statistics, we can tell that there are some arbitrage on 1/1/2018 \n",
    "because of the gaps between the lines in the graph and summary statistics tell us that the \n",
    "maximum difference is $319 and the average difference between the prices is $5.76 "
   ]
  },
  {
   "cell_type": "code",
   "execution_count": 172,
   "metadata": {
    "tags": []
   },
   "outputs": [
    {
     "data": {
      "text/plain": [
       "<AxesSubplot:>"
      ]
     },
     "execution_count": 172,
     "metadata": {},
     "output_type": "execute_result"
    },
    {
     "data": {
      "image/png": "[encoded data removed]",
      "text/plain": [
       "<Figure size 432x288 with 1 Axes>"
      ]
     },
     "metadata": {
      "needs_background": "light"
     },
     "output_type": "display_data"
    }
   ],
   "source": [
    "# Visualize the arbitrage spread from early in the dataset in a box plot\n",
    "arbitrage_spread_early.plot.box()"
   ]
  },
  {
   "cell_type": "code",
   "execution_count": null,
   "metadata": {},
   "outputs": [],
   "source": [
    "The box plot is also showing a lot of variance with the dots at the top and at the bottom. The\n",
    "mean is almost at 0 meaning there is very little price difference or arbitrage. "
   ]
  },
  {
   "cell_type": "code",
   "execution_count": 222,
   "metadata": {
    "tags": []
   },
   "outputs": [
    {
     "data": {
      "text/plain": [
       "<AxesSubplot:title={'center':'Bitstamp vs. Coinbase One Date Middle'}, xlabel='Timestamp'>"
      ]
     },
     "execution_count": 222,
     "metadata": {},
     "output_type": "execute_result"
    },
    {
     "data": {
      "image/png": "[encoded data removed]",
      "text/plain": [
       "<Figure size 720x504 with 1 Axes>"
      ]
     },
     "metadata": {
      "needs_background": "light"
     },
     "output_type": "display_data"
    }
   ],
   "source": [
    "# Create an overlay plot that visualizes the two dataframes over a period of one day from the middle of the dataset. \n",
    "# Be sure that the plots include the parameters `legend`, `figsize`, `title`, `color` and `label` \n",
    "bitstamp_sliced.loc['2018-02-13'].plot(legend = True, figsize = (10,7), title= \"Bitstamp vs. Coinbase One Date Middle\", color = \"blue\", label = \"Bitstamp\")\n",
    "coinbase_sliced.loc['2018-02-13'].plot(legend = True, figsize = (10,7), color = \"pink\", label = \"Coinbase\")"
   ]
  },
  {
   "cell_type": "code",
   "execution_count": null,
   "metadata": {},
   "outputs": [],
   "source": [
    "This Middle date graph shows that the trend is very similar to each other. "
   ]
  },
  {
   "cell_type": "code",
   "execution_count": 223,
   "metadata": {},
   "outputs": [
    {
     "data": {
      "text/plain": [
       "count    1438.000000\n",
       "mean        4.557942\n",
       "std        13.083587\n",
       "min       -49.440000\n",
       "25%        -4.020000\n",
       "50%         4.680000\n",
       "75%        13.285000\n",
       "max        48.910000\n",
       "Name: Close, dtype: float64"
      ]
     },
     "execution_count": 223,
     "metadata": {},
     "output_type": "execute_result"
    }
   ],
   "source": [
    "# Using the date in the middle that you have selected, calculate the arbitrage spread \n",
    "# by subtracting the bitstamp lower closing prices from the coinbase higher closing prices\n",
    "arbitrage_spread_middle = coinbase_sliced.loc['2018-02-13'] - bitstamp_sliced.loc['2018-02-13']\n",
    "\n",
    "# Generate summary statistics \n",
    "arbitrage_spread_middle.describe()\n"
   ]
  },
  {
   "cell_type": "code",
   "execution_count": null,
   "metadata": {},
   "outputs": [],
   "source": [
    "The average difference between the two for middle day is $4.55 and the maximum difference is \n",
    "$48.91 which is a lot smaller than the early day. "
   ]
  },
  {
   "cell_type": "code",
   "execution_count": 224,
   "metadata": {},
   "outputs": [
    {
     "data": {
      "text/plain": [
       "<AxesSubplot:>"
      ]
     },
     "execution_count": 224,
     "metadata": {},
     "output_type": "execute_result"
    },
    {
     "data": {
      "image/png": "[encoded data removed]",
      "text/plain": [
       "<Figure size 432x288 with 1 Axes>"
      ]
     },
     "metadata": {
      "needs_background": "light"
     },
     "output_type": "display_data"
    }
   ],
   "source": [
    "# Visualize the arbitrage spread from the middle of the dataset in a box plot\n",
    "arbitrage_spread_middle.plot.box()"
   ]
  },
  {
   "cell_type": "code",
   "execution_count": null,
   "metadata": {},
   "outputs": [],
   "source": [
    "There seems to less variance than the early day as well. "
   ]
  },
  {
   "cell_type": "code",
   "execution_count": 254,
   "metadata": {},
   "outputs": [
    {
     "data": {
      "text/plain": [
       "<AxesSubplot:title={'center':'Bitstamp vs. Coinbase One Date Later'}, xlabel='Timestamp'>"
      ]
     },
     "execution_count": 254,
     "metadata": {},
     "output_type": "execute_result"
    },
    {
     "data": {
      "image/png": "[encoded data removed]",
      "text/plain": [
       "<Figure size 720x504 with 1 Axes>"
      ]
     },
     "metadata": {
      "needs_background": "light"
     },
     "output_type": "display_data"
    }
   ],
   "source": [
    "# Create an overlay plot that visualizes the two dataframes over a period of one day from late in the dataset. \n",
    "# Be sure that the plots include the parameters `legend`, `figsize`, `title`, `color` and `label` \n",
    "bitstamp_sliced.loc['2018-03-31'].plot(legend = True, figsize = (10,7), title= \"Bitstamp vs. Coinbase One Date Later\", color = \"blue\", label = \"Bitstamp\")\n",
    "coinbase_sliced.loc['2018-03-31'].plot(legend = True, figsize = (10,7), color = \"pink\", label = \"Coinbase\")"
   ]
  },
  {
   "cell_type": "code",
   "execution_count": null,
   "metadata": {},
   "outputs": [],
   "source": [
    "The trend is also looking very simiilar for this late day as well. It is almost as similar as \n",
    "the middle day trend. Even from the graph, I'm not seeing a lot of possibilities for arbitrage. "
   ]
  },
  {
   "cell_type": "code",
   "execution_count": 255,
   "metadata": {},
   "outputs": [
    {
     "data": {
      "text/plain": [
       "count    1434.000000\n",
       "mean        2.348675\n",
       "std         8.109623\n",
       "min       -35.000000\n",
       "25%        -2.537500\n",
       "50%         2.300000\n",
       "75%         7.627500\n",
       "max        35.980000\n",
       "Name: Close, dtype: float64"
      ]
     },
     "execution_count": 255,
     "metadata": {},
     "output_type": "execute_result"
    }
   ],
   "source": [
    "# Using the date from the late that you have selected, calculate the arbitrage spread \n",
    "# by subtracting the bitstamp lower closing prices from the coinbase higher closing prices\n",
    "arbitrage_spread_late = coinbase_sliced.loc['2018-03-31'] - bitstamp_sliced.loc['2018-03-31']\n",
    "\n",
    "# Generate summary statistics for the late DataFrame\n",
    "arbitrage_spread_late.describe()"
   ]
  },
  {
   "cell_type": "code",
   "execution_count": null,
   "metadata": {},
   "outputs": [],
   "source": [
    "This late day summary statistics also shows tha the maximum difference between the two was $35.98\n",
    "and the average difference is $2.34 which is very little. "
   ]
  },
  {
   "cell_type": "code",
   "execution_count": 256,
   "metadata": {},
   "outputs": [
    {
     "data": {
      "text/plain": [
       "<AxesSubplot:>"
      ]
     },
     "execution_count": 256,
     "metadata": {},
     "output_type": "execute_result"
    },
    {
     "data": {
      "image/png": "[encoded data removed]",
      "text/plain": [
       "<Figure size 432x288 with 1 Axes>"
      ]
     },
     "metadata": {
      "needs_background": "light"
     },
     "output_type": "display_data"
    }
   ],
   "source": [
    "# Visualize the arbitrage spread from late in the dataset in a box plot\n",
    "arbitrage_spread_late.plot.box()"
   ]
  },
  {
   "cell_type": "code",
   "execution_count": null,
   "metadata": {},
   "outputs": [],
   "source": [
    "The variance seems to be a lot less than both the middle and early days looking at the y axis' \n",
    "range. "
   ]
  },
  {
   "cell_type": "markdown",
   "metadata": {},
   "source": [
    "### Step 4: Calculate the Arbitrage Profits\n",
    "\n",
    "Calculate the potential profits for each date that you selected in the previous section. Your goal is to determine whether arbitrage opportunities still exist in the Bitcoin market. Complete the following steps:\n",
    "\n",
    "1. For each of the three dates, measure the arbitrage spread between the two exchanges by subtracting the lower-priced exchange from the higher-priced one. Then use a conditional statement to generate the summary statistics for each arbitrage_spread DataFrame, where the spread is greater than zero.\n",
    "\n",
    "2. For each of the three dates, calculate the spread returns. To do so, divide the instances that have a positive arbitrage spread (that is, a spread greater than zero) by the price of Bitcoin from the exchange you’re buying on (that is, the lower-priced exchange). Review the resulting DataFrame.\n",
    "\n",
    "3. For each of the three dates, narrow down your trading opportunities even further. To do so, determine the number of times your trades with positive returns exceed the 1% minimum threshold that you need to cover your costs.\n",
    "\n",
    "4. Generate the summary statistics of your spread returns that are greater than 1%. How do the average returns compare among the three dates?\n",
    "\n",
    "5. For each of the three dates, calculate the potential profit, in dollars, per trade. To do so, multiply the spread returns that were greater than 1% by the cost of what was purchased. Make sure to drop any missing values from the resulting DataFrame.\n",
    "\n",
    "6. Generate the summary statistics, and plot the results for each of the three DataFrames.\n",
    "\n",
    "7. Calculate the potential arbitrage profits that you can make on each day. To do so, sum the elements in the profit_per_trade DataFrame.\n",
    "\n",
    "8. Using the `cumsum` function, plot the cumulative sum of each of the three DataFrames. Can you identify any patterns or trends in the profits across the three time periods?\n",
    "\n",
    "(NOTE: The starter code displays only one date. You'll want to do this analysis for two additional dates)."
   ]
  },
  {
   "cell_type": "markdown",
   "metadata": {},
   "source": [
    "#### 1. For each of the three dates, measure the arbitrage spread between the two exchanges by subtracting the lower-priced exchange from the higher-priced one. Then use a conditional statement to generate the summary statistics for each arbitrage_spread DataFrame, where the spread is greater than zero.\n",
    "\n",
    "*NOTE*: For illustration, only one of the three dates is shown in the starter code below."
   ]
  },
  {
   "cell_type": "code",
   "execution_count": 200,
   "metadata": {},
   "outputs": [],
   "source": [
    "# For the date early in the dataset, measure the arbitrage spread between the two exchanges\n",
    "# by subtracting the lower-priced exchange from the higher-priced one\n",
    "arbitrage_spread_early = coinbase_sliced.loc['2018-01-01'] - bitstamp_sliced.loc['2018-01-01']\n",
    "\n",
    "\n",
    "# Use a conditional statement to generate the summary statistics for each arbitrage_spread DataFrame\n",
    "def arbitrage_spread (arbitrage_spread_early):\n",
    "    if arbitrage_spread_early > 0  :\n",
    "        print (\"There is a possibility to make profit\")\n",
    "    else:\n",
    "        print (\"No profits can be made\")"
   ]
  },
  {
   "cell_type": "code",
   "execution_count": 233,
   "metadata": {},
   "outputs": [],
   "source": [
    "arbitrage_spread_middle = coinbase_sliced.loc['2018-02-13'] - bitstamp_sliced.loc['2018-02-13']\n",
    "\n",
    "def arbitrage_spread (arbitrage_spread_middle):\n",
    "    if arbitrage_spread_early > 0  :\n",
    "        print (\"There is a possibility to make profit\")\n",
    "    else:\n",
    "        print (\"No profits can be made\")\n"
   ]
  },
  {
   "cell_type": "code",
   "execution_count": 259,
   "metadata": {},
   "outputs": [],
   "source": [
    "arbitrage_spread_late = coinbase_sliced.loc['2018-03-31'] - bitstamp_sliced.loc['2018-03-31']\n",
    "\n",
    "def arbitrage_spread (arbitrage_spread_late):\n",
    "    if arbitrage_spread_early > 0  :\n",
    "        print (\"There is a possibility to make profit\")\n",
    "    else:\n",
    "        print (\"No profits can be made\")"
   ]
  },
  {
   "cell_type": "markdown",
   "metadata": {},
   "source": [
    "#### 2. For each of the three dates, calculate the spread returns. To do so, divide the instances that have a positive arbitrage spread (that is, a spread greater than zero) by the price of Bitcoin from the exchange you’re buying on (that is, the lower-priced exchange). Review the resulting DataFrame."
   ]
  },
  {
   "cell_type": "code",
   "execution_count": 203,
   "metadata": {},
   "outputs": [
    {
     "data": {
      "text/plain": [
       "Timestamp\n",
       "2018-01-01 00:00:00         NaN\n",
       "2018-01-01 00:01:00         NaN\n",
       "2018-01-01 00:02:00         NaN\n",
       "2018-01-01 00:03:00         NaN\n",
       "2018-01-01 00:04:00         NaN\n",
       "                         ...   \n",
       "2018-01-01 23:55:00    0.002673\n",
       "2018-01-01 23:56:00    0.004239\n",
       "2018-01-01 23:57:00    0.005579\n",
       "2018-01-01 23:58:00    0.003959\n",
       "2018-01-01 23:59:00    0.000677\n",
       "Name: Close, Length: 1440, dtype: float64"
      ]
     },
     "execution_count": 203,
     "metadata": {},
     "output_type": "execute_result"
    }
   ],
   "source": [
    "# For the date early in the dataset, calculate the spread returns by dividing the instances when the arbitrage spread is positive (> 0) \n",
    "# by the price of Bitcoin from the exchange you are buying on (the lower-priced exchange).\n",
    "spread_return_early= arbitrage_spread_early[arbitrage_spread_early>0] / bitstamp_sliced.loc['2018-01-01']\n",
    "\n",
    "# Review the spread return DataFrame\n",
    "spread_return_early"
   ]
  },
  {
   "cell_type": "code",
   "execution_count": 324,
   "metadata": {},
   "outputs": [
    {
     "data": {
      "text/plain": [
       "Timestamp\n",
       "2018-02-13 00:00:00    0.001426\n",
       "2018-02-13 00:01:00    0.001532\n",
       "2018-02-13 00:02:00         NaN\n",
       "2018-02-13 00:03:00    0.000711\n",
       "2018-02-13 00:04:00    0.001009\n",
       "                         ...   \n",
       "2018-02-13 23:55:00         NaN\n",
       "2018-02-13 23:56:00         NaN\n",
       "2018-02-13 23:57:00         NaN\n",
       "2018-02-13 23:58:00         NaN\n",
       "2018-02-13 23:59:00         NaN\n",
       "Name: Close, Length: 1440, dtype: float64"
      ]
     },
     "execution_count": 324,
     "metadata": {},
     "output_type": "execute_result"
    }
   ],
   "source": [
    "spread_return_middle= arbitrage_spread_middle[arbitrage_spread_middle>0] / bitstamp_sliced.loc['2018-02-13']\n",
    "spread_return_middle"
   ]
  },
  {
   "cell_type": "code",
   "execution_count": 260,
   "metadata": {
    "tags": []
   },
   "outputs": [
    {
     "data": {
      "text/plain": [
       "Timestamp\n",
       "2018-03-31 00:00:00    0.000355\n",
       "2018-03-31 00:01:00    0.000308\n",
       "2018-03-31 00:02:00    0.000777\n",
       "2018-03-31 00:03:00         NaN\n",
       "2018-03-31 00:04:00         NaN\n",
       "                         ...   \n",
       "2018-03-31 23:55:00    0.001075\n",
       "2018-03-31 23:56:00    0.001400\n",
       "2018-03-31 23:57:00         NaN\n",
       "2018-03-31 23:58:00    0.001394\n",
       "2018-03-31 23:59:00    0.000865\n",
       "Name: Close, Length: 1440, dtype: float64"
      ]
     },
     "execution_count": 260,
     "metadata": {},
     "output_type": "execute_result"
    }
   ],
   "source": [
    "spread_return_late= arbitrage_spread_late[arbitrage_spread_late>0] / bitstamp_sliced.loc['2018-03-31']\n",
    "\n",
    "spread_return_late"
   ]
  },
  {
   "cell_type": "markdown",
   "metadata": {},
   "source": [
    "#### 3. For each of the three dates, narrow down your trading opportunities even further. To do so, determine the number of times your trades with positive returns exceed the 1% minimum threshold that you need to cover your costs."
   ]
  },
  {
   "cell_type": "code",
   "execution_count": 251,
   "metadata": {},
   "outputs": [
    {
     "data": {
      "text/plain": [
       "Timestamp\n",
       "2018-01-01 09:10:00    0.011455\n",
       "2018-01-01 23:25:00    0.022465\n",
       "2018-01-01 23:26:00    0.024616\n",
       "2018-01-01 23:27:00    0.015948\n",
       "2018-01-01 23:28:00    0.011261\n",
       "Name: Close, dtype: float64"
      ]
     },
     "execution_count": 251,
     "metadata": {},
     "output_type": "execute_result"
    }
   ],
   "source": [
    "# For the date early in the dataset, determine the number of times your trades with positive returns \n",
    "# exceed the 1% minimum threshold (.01) that you need to cover your costs\n",
    "profitable_trades_early = spread_return_early [spread_return_early > .01]\n",
    "\n",
    "# Review the first five profitable trades\n",
    "profitable_trades_early.head()"
   ]
  },
  {
   "cell_type": "code",
   "execution_count": 261,
   "metadata": {},
   "outputs": [
    {
     "data": {
      "text/plain": [
       "Series([], Name: Close, dtype: float64)"
      ]
     },
     "execution_count": 261,
     "metadata": {},
     "output_type": "execute_result"
    }
   ],
   "source": [
    "profitable_trades_middle = spread_return_middle [spread_return_middle > .01]\n",
    "\n",
    "profitable_trades_middle.head()"
   ]
  },
  {
   "cell_type": "code",
   "execution_count": 262,
   "metadata": {
    "tags": []
   },
   "outputs": [
    {
     "data": {
      "text/plain": [
       "Series([], Name: Close, dtype: float64)"
      ]
     },
     "execution_count": 262,
     "metadata": {},
     "output_type": "execute_result"
    }
   ],
   "source": [
    "profitable_trades_late = spread_return_late [spread_return_late > .01]\n",
    "\n",
    "profitable_trades_late.head()"
   ]
  },
  {
   "cell_type": "code",
   "execution_count": null,
   "metadata": {},
   "outputs": [],
   "source": [
    "There are profitable trades for the early date but not for the middle and the late dates. It was\n",
    "the only one that had trades where the profit exceeds the 1% trade cost threshold. "
   ]
  },
  {
   "cell_type": "markdown",
   "metadata": {},
   "source": [
    "#### 4. Generate the summary statistics of your spread returns that are greater than 1%. How do the average returns compare among the three dates?"
   ]
  },
  {
   "cell_type": "code",
   "execution_count": 263,
   "metadata": {},
   "outputs": [
    {
     "data": {
      "text/plain": [
       "count    7.000000\n",
       "mean     0.015453\n",
       "std      0.005833\n",
       "min      0.010427\n",
       "25%      0.011358\n",
       "50%      0.012001\n",
       "75%      0.019207\n",
       "max      0.024616\n",
       "Name: Close, dtype: float64"
      ]
     },
     "execution_count": 263,
     "metadata": {},
     "output_type": "execute_result"
    }
   ],
   "source": [
    "# For the date early in the dataset, generate the summary statistics for the profitable trades\n",
    "# or you trades where the spread returns are are greater than 1%\n",
    "profitable_trades_early.describe()"
   ]
  },
  {
   "cell_type": "code",
   "execution_count": 264,
   "metadata": {},
   "outputs": [
    {
     "data": {
      "text/plain": [
       "count    0.0\n",
       "mean     NaN\n",
       "std      NaN\n",
       "min      NaN\n",
       "25%      NaN\n",
       "50%      NaN\n",
       "75%      NaN\n",
       "max      NaN\n",
       "Name: Close, dtype: float64"
      ]
     },
     "execution_count": 264,
     "metadata": {},
     "output_type": "execute_result"
    }
   ],
   "source": [
    "profitable_trades_middle.describe()"
   ]
  },
  {
   "cell_type": "code",
   "execution_count": 265,
   "metadata": {
    "tags": []
   },
   "outputs": [
    {
     "data": {
      "text/plain": [
       "count    0.0\n",
       "mean     NaN\n",
       "std      NaN\n",
       "min      NaN\n",
       "25%      NaN\n",
       "50%      NaN\n",
       "75%      NaN\n",
       "max      NaN\n",
       "Name: Close, dtype: float64"
      ]
     },
     "execution_count": 265,
     "metadata": {},
     "output_type": "execute_result"
    }
   ],
   "source": [
    "profitable_trades_late.describe()"
   ]
  },
  {
   "cell_type": "code",
   "execution_count": null,
   "metadata": {},
   "outputs": [],
   "source": [
    "These summary statistics back up the previous results showing us that the early had 7 profitable\n",
    "shares whereas the other two does not. "
   ]
  },
  {
   "cell_type": "markdown",
   "metadata": {},
   "source": [
    "#### 5. For each of the three dates, calculate the potential profit, in dollars, per trade. To do so, multiply the spread returns that were greater than 1% by the cost of what was purchased. Make sure to drop any missing values from the resulting DataFrame."
   ]
  },
  {
   "cell_type": "code",
   "execution_count": 266,
   "metadata": {},
   "outputs": [
    {
     "data": {
      "text/plain": [
       "Timestamp\n",
       "2018-01-01 09:10:00    147.33\n",
       "2018-01-01 23:25:00    293.89\n",
       "2018-01-01 23:26:00    319.99\n",
       "2018-01-01 23:27:00    207.33\n",
       "2018-01-01 23:28:00    146.82\n",
       "2018-01-01 23:29:00    155.86\n",
       "2018-01-01 23:31:00    135.18\n",
       "Name: Close, dtype: float64"
      ]
     },
     "execution_count": 266,
     "metadata": {},
     "output_type": "execute_result"
    }
   ],
   "source": [
    "# For the date early in the dataset, calculate the potential profit per trade in dollars \n",
    "# Multiply the profitable trades by the cost of the Bitcoin that was purchased\n",
    "profit_early = profitable_trades_early * bitstamp_sliced.loc['2018-01-01']\n",
    "\n",
    "# Drop any missing values from the profit DataFrame\n",
    "profit_per_trade_early = profit_early.dropna()\n",
    "\n",
    "# View the early profit DataFrame\n",
    "profit_per_trade_early"
   ]
  },
  {
   "cell_type": "code",
   "execution_count": 268,
   "metadata": {},
   "outputs": [
    {
     "data": {
      "text/plain": [
       "Series([], Name: Close, dtype: float64)"
      ]
     },
     "execution_count": 268,
     "metadata": {},
     "output_type": "execute_result"
    }
   ],
   "source": [
    "profit_middle = profitable_trades_middle * bitstamp_sliced.loc['2018-02-13']\n",
    "profit_per_trade_middle = profit_middle.dropna()\n",
    "profit_per_trade_middle"
   ]
  },
  {
   "cell_type": "code",
   "execution_count": 269,
   "metadata": {},
   "outputs": [
    {
     "data": {
      "text/plain": [
       "Series([], Name: Close, dtype: float64)"
      ]
     },
     "execution_count": 269,
     "metadata": {},
     "output_type": "execute_result"
    }
   ],
   "source": [
    "profit_late = profitable_trades_late * bitstamp_sliced.loc['2018-03-31']\n",
    "profit_per_trade_late = profit_late.dropna()\n",
    "profit_per_trade_late"
   ]
  },
  {
   "cell_type": "markdown",
   "metadata": {},
   "source": [
    "#### 6. Generate the summary statistics, and plot the results for each of the three DataFrames."
   ]
  },
  {
   "cell_type": "code",
   "execution_count": 274,
   "metadata": {},
   "outputs": [
    {
     "data": {
      "text/plain": [
       "count      7.000000\n",
       "mean     200.914286\n",
       "std       76.390469\n",
       "min      135.180000\n",
       "25%      147.075000\n",
       "50%      155.860000\n",
       "75%      250.610000\n",
       "max      319.990000\n",
       "Name: Close, dtype: float64"
      ]
     },
     "execution_count": 274,
     "metadata": {},
     "output_type": "execute_result"
    }
   ],
   "source": [
    "# Generate the summary statistics for the early profit per trade DataFrame\n",
    "profit_per_trade_early.describe()"
   ]
  },
  {
   "cell_type": "code",
   "execution_count": 275,
   "metadata": {},
   "outputs": [
    {
     "data": {
      "text/plain": [
       "count    0.0\n",
       "mean     NaN\n",
       "std      NaN\n",
       "min      NaN\n",
       "25%      NaN\n",
       "50%      NaN\n",
       "75%      NaN\n",
       "max      NaN\n",
       "Name: Close, dtype: float64"
      ]
     },
     "execution_count": 275,
     "metadata": {},
     "output_type": "execute_result"
    }
   ],
   "source": [
    "profit_per_trade_middle.describe()"
   ]
  },
  {
   "cell_type": "code",
   "execution_count": 276,
   "metadata": {},
   "outputs": [
    {
     "data": {
      "text/plain": [
       "count    0.0\n",
       "mean     NaN\n",
       "std      NaN\n",
       "min      NaN\n",
       "25%      NaN\n",
       "50%      NaN\n",
       "75%      NaN\n",
       "max      NaN\n",
       "Name: Close, dtype: float64"
      ]
     },
     "execution_count": 276,
     "metadata": {},
     "output_type": "execute_result"
    }
   ],
   "source": [
    "profit_per_trade_late.describe()"
   ]
  },
  {
   "cell_type": "code",
   "execution_count": null,
   "metadata": {},
   "outputs": [],
   "source": [
    "As we can see the early did have profits but the middle and late appeared as NaN because the\n",
    "profit is less than 1% . For the early, the average profit per arbitrage is $200.91 with a \n",
    "minimum value of $135.18 and maximum value of $319.99\n",
    "This is also shown below in the graph. "
   ]
  },
  {
   "cell_type": "code",
   "execution_count": 291,
   "metadata": {},
   "outputs": [
    {
     "data": {
      "text/plain": [
       "<AxesSubplot:title={'center':'Early Profit Per Trade'}, xlabel='Timestamp'>"
      ]
     },
     "execution_count": 291,
     "metadata": {},
     "output_type": "execute_result"
    },
    {
     "data": {
      "image/png": "[encoded data removed]",
      "text/plain": [
       "<Figure size 504x360 with 1 Axes>"
      ]
     },
     "metadata": {
      "needs_background": "light"
     },
     "output_type": "display_data"
    }
   ],
   "source": [
    "# Plot the results for the early profit per trade DataFrame\n",
    "profit_per_trade_early.plot(figsize = (7,5), title = \"Early Profit Per Trade\")"
   ]
  },
  {
   "cell_type": "code",
   "execution_count": 292,
   "metadata": {},
   "outputs": [
    {
     "data": {
      "text/plain": [
       "<AxesSubplot:title={'center':'Middle Profit Per Trade'}, xlabel='Timestamp'>"
      ]
     },
     "execution_count": 292,
     "metadata": {},
     "output_type": "execute_result"
    },
    {
     "data": {
      "image/png": "[encoded data removed]",
      "text/plain": [
       "<Figure size 504x360 with 1 Axes>"
      ]
     },
     "metadata": {
      "needs_background": "light"
     },
     "output_type": "display_data"
    }
   ],
   "source": [
    "profit_per_trade_middle.plot(figsize = (7,5), title = \"Middle Profit Per Trade\")"
   ]
  },
  {
   "cell_type": "code",
   "execution_count": 293,
   "metadata": {
    "tags": []
   },
   "outputs": [
    {
     "data": {
      "text/plain": [
       "<AxesSubplot:title={'center':'Late Profit Per Trade'}, xlabel='Timestamp'>"
      ]
     },
     "execution_count": 293,
     "metadata": {},
     "output_type": "execute_result"
    },
    {
     "data": {
      "image/png": "[encoded data removed]",
      "text/plain": [
       "<Figure size 504x360 with 1 Axes>"
      ]
     },
     "metadata": {
      "needs_background": "light"
     },
     "output_type": "display_data"
    }
   ],
   "source": [
    "profit_per_trade_late.plot(figsize = (7,5), title = \"Late Profit Per Trade\")"
   ]
  },
  {
   "cell_type": "markdown",
   "metadata": {},
   "source": [
    "#### 7. Calculate the potential arbitrage profits that you can make on each day. To do so, sum the elements in the profit_per_trade DataFrame."
   ]
  },
  {
   "cell_type": "code",
   "execution_count": 294,
   "metadata": {},
   "outputs": [
    {
     "data": {
      "text/plain": [
       "1406.3999999999996"
      ]
     },
     "execution_count": 294,
     "metadata": {},
     "output_type": "execute_result"
    }
   ],
   "source": [
    "# Calculate the sum of the potential profits for the early profit per trade DataFrame\n",
    "profit_sum_early = profit_per_trade_early.sum()\n",
    "profit_sum_early"
   ]
  },
  {
   "cell_type": "code",
   "execution_count": 295,
   "metadata": {},
   "outputs": [
    {
     "data": {
      "text/plain": [
       "0.0"
      ]
     },
     "execution_count": 295,
     "metadata": {},
     "output_type": "execute_result"
    }
   ],
   "source": [
    "profit_sum_middle = profit_per_trade_middle.sum()\n",
    "profit_sum_middle"
   ]
  },
  {
   "cell_type": "code",
   "execution_count": 296,
   "metadata": {
    "tags": []
   },
   "outputs": [
    {
     "data": {
      "text/plain": [
       "0.0"
      ]
     },
     "execution_count": 296,
     "metadata": {},
     "output_type": "execute_result"
    }
   ],
   "source": [
    "profit_sum_late = profit_per_trade_late.sum()\n",
    "profit_sum_late"
   ]
  },
  {
   "cell_type": "code",
   "execution_count": null,
   "metadata": {},
   "outputs": [],
   "source": [
    "The sum came out to be $1,406.39 for the early and as we know, 0.00 for the middle and late as \n",
    "there were no profit above 1%"
   ]
  },
  {
   "cell_type": "markdown",
   "metadata": {},
   "source": [
    "#### 8. Using the `cumsum` function, plot the cumulative sum of each of the three DataFrames. Can you identify any patterns or trends in the profits across the three time periods?"
   ]
  },
  {
   "cell_type": "code",
   "execution_count": 325,
   "metadata": {},
   "outputs": [],
   "source": [
    "# Use the cumsum function to calculate the cumulative profits over time for the early profit per trade DataFrame\n",
    "cumulative_profit_early = profit_per_trade_early.cumsum()\n"
   ]
  },
  {
   "cell_type": "code",
   "execution_count": 326,
   "metadata": {},
   "outputs": [],
   "source": [
    "cumulative_profit_middle = profit_per_trade_middle.cumsum()\n"
   ]
  },
  {
   "cell_type": "code",
   "execution_count": 327,
   "metadata": {},
   "outputs": [],
   "source": [
    "cumulative_profit_late = profit_per_trade_late.cumsum()\n"
   ]
  },
  {
   "cell_type": "code",
   "execution_count": 301,
   "metadata": {},
   "outputs": [
    {
     "data": {
      "text/plain": [
       "<AxesSubplot:title={'center':'Cumulative Early Profits'}, xlabel='Timestamp'>"
      ]
     },
     "execution_count": 301,
     "metadata": {},
     "output_type": "execute_result"
    },
    {
     "data": {
      "image/png": "[encoded data removed]",
      "text/plain": [
       "<Figure size 720x504 with 1 Axes>"
      ]
     },
     "metadata": {
      "needs_background": "light"
     },
     "output_type": "display_data"
    }
   ],
   "source": [
    "# Plot the cumulative sum of profits for the early profit per trade DataFrame\n",
    "cumulative_profit_early.plot( figsize = (10,7), title = \"Cumulative Early Profits\")"
   ]
  },
  {
   "cell_type": "code",
   "execution_count": 304,
   "metadata": {},
   "outputs": [
    {
     "data": {
      "text/plain": [
       "<AxesSubplot:title={'center':'Cumulative Middle Profits'}, xlabel='Timestamp'>"
      ]
     },
     "execution_count": 304,
     "metadata": {},
     "output_type": "execute_result"
    },
    {
     "data": {
      "image/png": "[encoded data removed]",
      "text/plain": [
       "<Figure size 504x360 with 1 Axes>"
      ]
     },
     "metadata": {
      "needs_background": "light"
     },
     "output_type": "display_data"
    }
   ],
   "source": [
    "cumulative_profit_middle.plot( figsize = (7,5), title = \"Cumulative Middle Profits\")"
   ]
  },
  {
   "cell_type": "code",
   "execution_count": 306,
   "metadata": {},
   "outputs": [
    {
     "data": {
      "text/plain": [
       "<AxesSubplot:title={'center':'Cumulative Late Profits'}, xlabel='Timestamp'>"
      ]
     },
     "execution_count": 306,
     "metadata": {},
     "output_type": "execute_result"
    },
    {
     "data": {
      "image/png": "[encoded data removed]",
      "text/plain": [
       "<Figure size 504x360 with 1 Axes>"
      ]
     },
     "metadata": {
      "needs_background": "light"
     },
     "output_type": "display_data"
    }
   ],
   "source": [
    "cumulative_profit_late.plot( figsize = (7,5), title = \"Cumulative Late Profits\")"
   ]
  },
  {
   "cell_type": "markdown",
   "metadata": {},
   "source": [
    "**Question:** After reviewing the profit information across each date from the different time periods, can you identify any patterns or trends?\n",
    "    \n",
    "**Answer:** YOUR ANSWER HERE"
   ]
  },
  {
   "cell_type": "code",
   "execution_count": null,
   "metadata": {},
   "outputs": [],
   "source": [
    "After reviewing the information, the dates that I chose seem to have had no profits. The \n",
    "early date had a sudden increase of profits whereas the other two dates did not have any\n",
    "profit at all that was above the 1%. It seems like the prices were almost identical for Coinbase and Bitstamp. \n",
    "Looking at the graph 'Bitcoin vs. Bitstamp', the trend was almost identical for the two. "
   ]
  }
 ],
 "metadata": {
  "kernelspec": {
   "display_name": "Python 3 (ipykernel)",
   "language": "python",
   "name": "python3"
  },
  "language_info": {
   "codemirror_mode": {
    "name": "ipython",
    "version": 3
   },
   "file_extension": ".py",
   "mimetype": "text/x-python",
   "name": "python",
   "nbconvert_exporter": "python",
   "pygments_lexer": "ipython3",
   "version": "3.9.7"
  }
 },
 "nbformat": 4,
 "nbformat_minor": 4
}
